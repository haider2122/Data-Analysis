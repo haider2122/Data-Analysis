{
 "cells": [
  {
   "cell_type": "code",
   "execution_count": 1,
   "metadata": {
    "collapsed": false,
    "scrolled": true
   },
   "outputs": [
    {
     "data": {
      "text/html": [
       "<div>\n",
       "<table border=\"1\" class=\"dataframe\">\n",
       "  <thead>\n",
       "    <tr style=\"text-align: right;\">\n",
       "      <th></th>\n",
       "      <th>Unnamed: 0</th>\n",
       "      <th>Alive</th>\n",
       "      <th>Class</th>\n",
       "      <th>Gender</th>\n",
       "      <th>Age</th>\n",
       "      <th>Siblings</th>\n",
       "      <th>Parch</th>\n",
       "      <th>Price</th>\n",
       "      <th>Emb</th>\n",
       "      <th>Deck</th>\n",
       "    </tr>\n",
       "  </thead>\n",
       "  <tbody>\n",
       "    <tr>\n",
       "      <th>0</th>\n",
       "      <td>2</td>\n",
       "      <td>1</td>\n",
       "      <td>3</td>\n",
       "      <td>female</td>\n",
       "      <td>26.0</td>\n",
       "      <td>0</td>\n",
       "      <td>0</td>\n",
       "      <td>$7.925</td>\n",
       "      <td>S</td>\n",
       "      <td>NaN</td>\n",
       "    </tr>\n",
       "    <tr>\n",
       "      <th>1</th>\n",
       "      <td>3</td>\n",
       "      <td>1</td>\n",
       "      <td>1</td>\n",
       "      <td>female</td>\n",
       "      <td>35.0</td>\n",
       "      <td>1</td>\n",
       "      <td>0</td>\n",
       "      <td>$53.1</td>\n",
       "      <td>S</td>\n",
       "      <td>C</td>\n",
       "    </tr>\n",
       "  </tbody>\n",
       "</table>\n",
       "</div>"
      ],
      "text/plain": [
       "   Unnamed: 0 Alive  Class  Gender   Age  Siblings  Parch   Price Emb Deck\n",
       "0           2     1      3  female  26.0         0      0  $7.925   S  NaN\n",
       "1           3     1      1  female  35.0         1      0   $53.1   S    C"
      ]
     },
     "execution_count": 1,
     "metadata": {},
     "output_type": "execute_result"
    }
   ],
   "source": [
    "import pandas as pd\n",
    "t=pd.read_csv('titanic_cleaned.csv')\n",
    "t.head(2)"
   ]
  },
  {
   "cell_type": "code",
   "execution_count": 2,
   "metadata": {
    "collapsed": false
   },
   "outputs": [
    {
     "name": "stdout",
     "output_type": "stream",
     "text": [
      "<class 'pandas.core.frame.DataFrame'>\n",
      "RangeIndex: 890 entries, 0 to 889\n",
      "Data columns (total 10 columns):\n",
      "Unnamed: 0    890 non-null int64\n",
      "Alive         890 non-null object\n",
      "Class         890 non-null int64\n",
      "Gender        890 non-null object\n",
      "Age           754 non-null object\n",
      "Siblings      890 non-null int64\n",
      "Parch         890 non-null int64\n",
      "Price         890 non-null object\n",
      "Emb           888 non-null object\n",
      "Deck          202 non-null object\n",
      "dtypes: int64(4), object(6)\n",
      "memory usage: 48.7+ KB\n"
     ]
    }
   ],
   "source": [
    "t.info()#object exist in place of int or float"
   ]
  },
  {
   "cell_type": "code",
   "execution_count": 4,
   "metadata": {
    "collapsed": false
   },
   "outputs": [
    {
     "data": {
      "text/html": [
       "<div>\n",
       "<style scoped>\n",
       "    .dataframe tbody tr th:only-of-type {\n",
       "        vertical-align: middle;\n",
       "    }\n",
       "\n",
       "    .dataframe tbody tr th {\n",
       "        vertical-align: top;\n",
       "    }\n",
       "\n",
       "    .dataframe thead th {\n",
       "        text-align: right;\n",
       "    }\n",
       "</style>\n",
       "<table border=\"1\" class=\"dataframe\">\n",
       "  <thead>\n",
       "    <tr style=\"text-align: right;\">\n",
       "      <th></th>\n",
       "      <th>Unnamed: 0</th>\n",
       "      <th>Class</th>\n",
       "      <th>Siblings</th>\n",
       "      <th>Parch</th>\n",
       "    </tr>\n",
       "  </thead>\n",
       "  <tbody>\n",
       "    <tr>\n",
       "      <th>count</th>\n",
       "      <td>890.000000</td>\n",
       "      <td>890.000000</td>\n",
       "      <td>890.000000</td>\n",
       "      <td>890.000000</td>\n",
       "    </tr>\n",
       "    <tr>\n",
       "      <th>mean</th>\n",
       "      <td>446.500000</td>\n",
       "      <td>2.308989</td>\n",
       "      <td>0.521348</td>\n",
       "      <td>0.382022</td>\n",
       "    </tr>\n",
       "    <tr>\n",
       "      <th>std</th>\n",
       "      <td>257.065167</td>\n",
       "      <td>0.835131</td>\n",
       "      <td>1.103270</td>\n",
       "      <td>0.806409</td>\n",
       "    </tr>\n",
       "    <tr>\n",
       "      <th>min</th>\n",
       "      <td>2.000000</td>\n",
       "      <td>1.000000</td>\n",
       "      <td>0.000000</td>\n",
       "      <td>0.000000</td>\n",
       "    </tr>\n",
       "    <tr>\n",
       "      <th>25%</th>\n",
       "      <td>224.250000</td>\n",
       "      <td>2.000000</td>\n",
       "      <td>0.000000</td>\n",
       "      <td>0.000000</td>\n",
       "    </tr>\n",
       "    <tr>\n",
       "      <th>50%</th>\n",
       "      <td>446.500000</td>\n",
       "      <td>3.000000</td>\n",
       "      <td>0.000000</td>\n",
       "      <td>0.000000</td>\n",
       "    </tr>\n",
       "    <tr>\n",
       "      <th>75%</th>\n",
       "      <td>668.750000</td>\n",
       "      <td>3.000000</td>\n",
       "      <td>1.000000</td>\n",
       "      <td>0.000000</td>\n",
       "    </tr>\n",
       "    <tr>\n",
       "      <th>max</th>\n",
       "      <td>891.000000</td>\n",
       "      <td>3.000000</td>\n",
       "      <td>8.000000</td>\n",
       "      <td>6.000000</td>\n",
       "    </tr>\n",
       "  </tbody>\n",
       "</table>\n",
       "</div>"
      ],
      "text/plain": [
       "       Unnamed: 0       Class    Siblings       Parch\n",
       "count  890.000000  890.000000  890.000000  890.000000\n",
       "mean   446.500000    2.308989    0.521348    0.382022\n",
       "std    257.065167    0.835131    1.103270    0.806409\n",
       "min      2.000000    1.000000    0.000000    0.000000\n",
       "25%    224.250000    2.000000    0.000000    0.000000\n",
       "50%    446.500000    3.000000    0.000000    0.000000\n",
       "75%    668.750000    3.000000    1.000000    0.000000\n",
       "max    891.000000    3.000000    8.000000    6.000000"
      ]
     },
     "execution_count": 4,
     "metadata": {},
     "output_type": "execute_result"
    }
   ],
   "source": [
    "t.describe()"
   ]
  },
  {
   "cell_type": "code",
   "execution_count": 5,
   "metadata": {
    "collapsed": false
   },
   "outputs": [
    {
     "data": {
      "text/html": [
       "<div>\n",
       "<style scoped>\n",
       "    .dataframe tbody tr th:only-of-type {\n",
       "        vertical-align: middle;\n",
       "    }\n",
       "\n",
       "    .dataframe tbody tr th {\n",
       "        vertical-align: top;\n",
       "    }\n",
       "\n",
       "    .dataframe thead th {\n",
       "        text-align: right;\n",
       "    }\n",
       "</style>\n",
       "<table border=\"1\" class=\"dataframe\">\n",
       "  <thead>\n",
       "    <tr style=\"text-align: right;\">\n",
       "      <th></th>\n",
       "      <th>Class</th>\n",
       "      <th>Siblings</th>\n",
       "    </tr>\n",
       "  </thead>\n",
       "  <tbody>\n",
       "    <tr>\n",
       "      <th>count</th>\n",
       "      <td>890.000000</td>\n",
       "      <td>890.000000</td>\n",
       "    </tr>\n",
       "    <tr>\n",
       "      <th>mean</th>\n",
       "      <td>2.308989</td>\n",
       "      <td>0.521348</td>\n",
       "    </tr>\n",
       "    <tr>\n",
       "      <th>std</th>\n",
       "      <td>0.835131</td>\n",
       "      <td>1.103270</td>\n",
       "    </tr>\n",
       "    <tr>\n",
       "      <th>min</th>\n",
       "      <td>1.000000</td>\n",
       "      <td>0.000000</td>\n",
       "    </tr>\n",
       "    <tr>\n",
       "      <th>25%</th>\n",
       "      <td>2.000000</td>\n",
       "      <td>0.000000</td>\n",
       "    </tr>\n",
       "    <tr>\n",
       "      <th>50%</th>\n",
       "      <td>3.000000</td>\n",
       "      <td>0.000000</td>\n",
       "    </tr>\n",
       "    <tr>\n",
       "      <th>75%</th>\n",
       "      <td>3.000000</td>\n",
       "      <td>1.000000</td>\n",
       "    </tr>\n",
       "    <tr>\n",
       "      <th>max</th>\n",
       "      <td>3.000000</td>\n",
       "      <td>8.000000</td>\n",
       "    </tr>\n",
       "  </tbody>\n",
       "</table>\n",
       "</div>"
      ],
      "text/plain": [
       "            Class    Siblings\n",
       "count  890.000000  890.000000\n",
       "mean     2.308989    0.521348\n",
       "std      0.835131    1.103270\n",
       "min      1.000000    0.000000\n",
       "25%      2.000000    0.000000\n",
       "50%      3.000000    0.000000\n",
       "75%      3.000000    1.000000\n",
       "max      3.000000    8.000000"
      ]
     },
     "execution_count": 5,
     "metadata": {},
     "output_type": "execute_result"
    }
   ],
   "source": [
    "(t.loc[::,['Class','Siblings','Price','Alive','Age']]).describe()"
   ]
  },
  {
   "cell_type": "code",
   "execution_count": 6,
   "metadata": {
    "collapsed": false
   },
   "outputs": [
    {
     "data": {
      "text/plain": [
       "array(['1', '0', 'yes', 'no'], dtype=object)"
      ]
     },
     "execution_count": 6,
     "metadata": {},
     "output_type": "execute_result"
    }
   ],
   "source": [
    "t.Alive.unique()#here we have unique values of different dtypes\n"
   ]
  },
  {
   "cell_type": "code",
   "execution_count": 7,
   "metadata": {
    "collapsed": false
   },
   "outputs": [
    {
     "data": {
      "text/plain": [
       "0      548\n",
       "1      340\n",
       "yes      1\n",
       "no       1\n",
       "Name: Alive, dtype: int64"
      ]
     },
     "execution_count": 7,
     "metadata": {},
     "output_type": "execute_result"
    }
   ],
   "source": [
    "t.Alive.value_counts()#we have yes amd no, instead of 1 and 0.\n",
    "                    #hence it's suitable to stick to one parameter"
   ]
  },
  {
   "cell_type": "code",
   "execution_count": 8,
   "metadata": {
    "collapsed": true
   },
   "outputs": [],
   "source": [
    "t.Alive.replace(to_replace=['yes','no'],value=[1,0],inplace=True)"
   ]
  },
  {
   "cell_type": "code",
   "execution_count": 9,
   "metadata": {
    "collapsed": false
   },
   "outputs": [
    {
     "data": {
      "text/plain": [
       "0    548\n",
       "1    340\n",
       "1      1\n",
       "0      1\n",
       "Name: Alive, dtype: int64"
      ]
     },
     "execution_count": 9,
     "metadata": {},
     "output_type": "execute_result"
    }
   ],
   "source": [
    "t.Alive.value_counts()# Hence we changed yes and No to 1,0 using replce method\n",
    "#but still data types remain deifferent"
   ]
  },
  {
   "cell_type": "code",
   "execution_count": null,
   "metadata": {
    "collapsed": false
   },
   "outputs": [],
   "source": []
  },
  {
   "cell_type": "code",
   "execution_count": 11,
   "metadata": {
    "collapsed": false
   },
   "outputs": [
    {
     "ename": "SyntaxError",
     "evalue": "invalid syntax (<ipython-input-11-a44d03811bad>, line 1)",
     "output_type": "error",
     "traceback": [
      "\u001b[0;36m  File \u001b[0;32m\"<ipython-input-11-a44d03811bad>\"\u001b[0;36m, line \u001b[0;32m1\u001b[0m\n\u001b[0;31m    olym.Athlete Name#hence we can't call athlete name\u001b[0m\n\u001b[0m                    ^\u001b[0m\n\u001b[0;31mSyntaxError\u001b[0m\u001b[0;31m:\u001b[0m invalid syntax\n"
     ]
    }
   ],
   "source": []
  },
  {
   "cell_type": "code",
   "execution_count": 12,
   "metadata": {
    "collapsed": false
   },
   "outputs": [],
   "source": []
  },
  {
   "cell_type": "code",
   "execution_count": 13,
   "metadata": {
    "collapsed": false
   },
   "outputs": [
    {
     "data": {
      "text/html": [
       "<div>\n",
       "<style scoped>\n",
       "    .dataframe tbody tr th:only-of-type {\n",
       "        vertical-align: middle;\n",
       "    }\n",
       "\n",
       "    .dataframe tbody tr th {\n",
       "        vertical-align: top;\n",
       "    }\n",
       "\n",
       "    .dataframe thead th {\n",
       "        text-align: right;\n",
       "    }\n",
       "</style>\n",
       "<table border=\"1\" class=\"dataframe\">\n",
       "  <thead>\n",
       "    <tr style=\"text-align: right;\">\n",
       "      <th></th>\n",
       "      <th>Year</th>\n",
       "      <th>City</th>\n",
       "      <th>Sport</th>\n",
       "      <th>Discipline</th>\n",
       "      <th>Athlete_name</th>\n",
       "      <th>Country</th>\n",
       "      <th>Gender</th>\n",
       "      <th>Event</th>\n",
       "      <th>Medal</th>\n",
       "    </tr>\n",
       "  </thead>\n",
       "  <tbody>\n",
       "    <tr>\n",
       "      <th>0</th>\n",
       "      <td>1896</td>\n",
       "      <td>Athens</td>\n",
       "      <td>Aquatics</td>\n",
       "      <td>Swimming</td>\n",
       "      <td>HAJOS, Alfred</td>\n",
       "      <td>HUN</td>\n",
       "      <td>Men</td>\n",
       "      <td>100M Freestyle</td>\n",
       "      <td>Gold Medal</td>\n",
       "    </tr>\n",
       "    <tr>\n",
       "      <th>1</th>\n",
       "      <td>1896</td>\n",
       "      <td>Athens</td>\n",
       "      <td>Aquatics</td>\n",
       "      <td>Swimming</td>\n",
       "      <td>HERSCHMANN, Otto</td>\n",
       "      <td>AUT</td>\n",
       "      <td>Men</td>\n",
       "      <td>100M Freestyle</td>\n",
       "      <td>Silver</td>\n",
       "    </tr>\n",
       "  </tbody>\n",
       "</table>\n",
       "</div>"
      ],
      "text/plain": [
       "   Year    City     Sport Discipline        Athlete_name Country Gender  \\\n",
       "0  1896  Athens  Aquatics   Swimming      HAJOS, Alfred      HUN    Men   \n",
       "1  1896  Athens  Aquatics   Swimming   HERSCHMANN, Otto      AUT    Men   \n",
       "\n",
       "            Event       Medal  \n",
       "0  100M Freestyle  Gold Medal  \n",
       "1  100M Freestyle      Silver  "
      ]
     },
     "execution_count": 13,
     "metadata": {},
     "output_type": "execute_result"
    }
   ],
   "source": []
  },
  {
   "cell_type": "code",
   "execution_count": 14,
   "metadata": {
    "collapsed": false
   },
   "outputs": [
    {
     "data": {
      "text/plain": [
       "Gold          10483\n",
       "Bronze        10372\n",
       "Silver        10311\n",
       "Gold Medal        4\n",
       "Name: Medal, dtype: int64"
      ]
     },
     "execution_count": 14,
     "metadata": {},
     "output_type": "execute_result"
    }
   ],
   "source": []
  },
  {
   "cell_type": "code",
   "execution_count": 15,
   "metadata": {
    "collapsed": false
   },
   "outputs": [],
   "source": []
  },
  {
   "cell_type": "code",
   "execution_count": 16,
   "metadata": {
    "collapsed": false
   },
   "outputs": [
    {
     "data": {
      "text/plain": [
       "Gold      10487\n",
       "Bronze    10372\n",
       "Silver    10311\n",
       "Name: Medal, dtype: int64"
      ]
     },
     "execution_count": 16,
     "metadata": {},
     "output_type": "execute_result"
    }
   ],
   "source": []
  },
  {
   "cell_type": "code",
   "execution_count": 17,
   "metadata": {
    "collapsed": false
   },
   "outputs": [
    {
     "data": {
      "text/plain": [
       "'haider'"
      ]
     },
     "execution_count": 17,
     "metadata": {},
     "output_type": "execute_result"
    }
   ],
   "source": []
  },
  {
   "cell_type": "code",
   "execution_count": 3,
   "metadata": {
    "collapsed": false
   },
   "outputs": [
    {
     "name": "stdout",
     "output_type": "stream",
     "text": [
      "<class 'pandas.core.frame.DataFrame'>\n",
      "RangeIndex: 890 entries, 0 to 889\n",
      "Data columns (total 10 columns):\n",
      "Unnamed: 0    890 non-null int64\n",
      "Alive         890 non-null object\n",
      "Class         890 non-null int64\n",
      "Gender        890 non-null object\n",
      "Age           754 non-null object\n",
      "Siblings      890 non-null int64\n",
      "Parch         890 non-null int64\n",
      "Price         890 non-null object\n",
      "Emb           888 non-null object\n",
      "Deck          202 non-null object\n",
      "dtypes: int64(4), object(6)\n",
      "memory usage: 48.7+ KB\n"
     ]
    }
   ],
   "source": [
    "t.info()"
   ]
  },
  {
   "cell_type": "code",
   "execution_count": 4,
   "metadata": {
    "collapsed": false
   },
   "outputs": [
    {
     "ename": "ValueError",
     "evalue": "Unable to parse string",
     "output_type": "error",
     "traceback": [
      "\u001b[0;31m---------------------------------------------------------------------------\u001b[0m",
      "\u001b[0;31mValueError\u001b[0m                                Traceback (most recent call last)",
      "\u001b[0;32m<ipython-input-4-d96aa0345d9f>\u001b[0m in \u001b[0;36m<module>\u001b[0;34m()\u001b[0m\n\u001b[1;32m      1\u001b[0m \u001b[1;31m# converting price to a numeric value from object\u001b[0m\u001b[1;33m\u001b[0m\u001b[1;33m\u001b[0m\u001b[0m\n\u001b[0;32m----> 2\u001b[0;31m \u001b[0mpd\u001b[0m\u001b[1;33m.\u001b[0m\u001b[0mto_numeric\u001b[0m\u001b[1;33m(\u001b[0m\u001b[0mt\u001b[0m\u001b[1;33m.\u001b[0m\u001b[0mPrice\u001b[0m\u001b[1;33m)\u001b[0m\u001b[1;31m#We need to remove $ sign\u001b[0m\u001b[1;33m\u001b[0m\u001b[0m\n\u001b[0m",
      "\u001b[0;32mE:\\Users\\Haider\\Documents\\Anaconda\\lib\\site-packages\\pandas\\tools\\util.py\u001b[0m in \u001b[0;36mto_numeric\u001b[0;34m(arg, errors)\u001b[0m\n\u001b[1;32m    113\u001b[0m         \u001b[1;32mtry\u001b[0m\u001b[1;33m:\u001b[0m\u001b[1;33m\u001b[0m\u001b[0m\n\u001b[1;32m    114\u001b[0m             values = lib.maybe_convert_numeric(values, set(),\n\u001b[0;32m--> 115\u001b[0;31m                                                coerce_numeric=coerce_numeric)\n\u001b[0m\u001b[1;32m    116\u001b[0m         \u001b[1;32mexcept\u001b[0m\u001b[1;33m:\u001b[0m\u001b[1;33m\u001b[0m\u001b[0m\n\u001b[1;32m    117\u001b[0m             \u001b[1;32mif\u001b[0m \u001b[0merrors\u001b[0m \u001b[1;33m==\u001b[0m \u001b[1;34m'raise'\u001b[0m\u001b[1;33m:\u001b[0m\u001b[1;33m\u001b[0m\u001b[0m\n",
      "\u001b[0;32mpandas\\src\\inference.pyx\u001b[0m in \u001b[0;36mpandas.lib.maybe_convert_numeric (pandas\\lib.c:53558)\u001b[0;34m()\u001b[0m\n",
      "\u001b[0;32mpandas\\src\\inference.pyx\u001b[0m in \u001b[0;36mpandas.lib.maybe_convert_numeric (pandas\\lib.c:53344)\u001b[0;34m()\u001b[0m\n",
      "\u001b[0;31mValueError\u001b[0m: Unable to parse string"
     ]
    }
   ],
   "source": [
    "# converting price to a numeric value from object\n",
    "pd.to_numeric(t.Price)#We need to remove $ sign\n"
   ]
  },
  {
   "cell_type": "code",
   "execution_count": 5,
   "metadata": {
    "collapsed": false
   },
   "outputs": [],
   "source": [
    "t.Price=(t.Price.str).replace('$','')\n",
    "\n"
   ]
  },
  {
   "cell_type": "code",
   "execution_count": 6,
   "metadata": {
    "collapsed": false
   },
   "outputs": [
    {
     "name": "stdout",
     "output_type": "stream",
     "text": [
      "<class 'pandas.core.frame.DataFrame'>\n",
      "RangeIndex: 890 entries, 0 to 889\n",
      "Data columns (total 10 columns):\n",
      "Unnamed: 0    890 non-null int64\n",
      "Alive         890 non-null object\n",
      "Class         890 non-null int64\n",
      "Gender        890 non-null object\n",
      "Age           754 non-null object\n",
      "Siblings      890 non-null int64\n",
      "Parch         890 non-null int64\n",
      "Price         890 non-null object\n",
      "Emb           888 non-null object\n",
      "Deck          202 non-null object\n",
      "dtypes: int64(4), object(6)\n",
      "memory usage: 48.7+ KB\n"
     ]
    }
   ],
   "source": [
    "pd.to_numeric(t.Price)\n",
    "t.info()"
   ]
  },
  {
   "cell_type": "code",
   "execution_count": 7,
   "metadata": {
    "collapsed": false
   },
   "outputs": [
    {
     "ename": "NameError",
     "evalue": "name 'olym' is not defined",
     "output_type": "error",
     "traceback": [
      "\u001b[0;31m---------------------------------------------------------------------------\u001b[0m",
      "\u001b[0;31mNameError\u001b[0m                                 Traceback (most recent call last)",
      "\u001b[0;32m<ipython-input-7-4cacf9426a15>\u001b[0m in \u001b[0;36m<module>\u001b[0;34m()\u001b[0m\n\u001b[0;32m----> 1\u001b[0;31m \u001b[0molym\u001b[0m\u001b[1;33m.\u001b[0m\u001b[0mAthlete_name\u001b[0m\u001b[1;33m.\u001b[0m\u001b[0mhead\u001b[0m\u001b[1;33m(\u001b[0m\u001b[1;33m)\u001b[0m\u001b[1;31m#Athlete name are not consistent\u001b[0m\u001b[1;33m\u001b[0m\u001b[0m\n\u001b[0m\u001b[1;32m      2\u001b[0m \u001b[0molym\u001b[0m\u001b[1;33m.\u001b[0m\u001b[0mAthlete_name\u001b[0m\u001b[1;33m=\u001b[0m\u001b[0molym\u001b[0m\u001b[1;33m.\u001b[0m\u001b[0mAthlete_name\u001b[0m\u001b[1;33m.\u001b[0m\u001b[0mstr\u001b[0m\u001b[1;33m.\u001b[0m\u001b[0mupper\u001b[0m\u001b[1;33m(\u001b[0m\u001b[1;33m)\u001b[0m\u001b[1;33m\u001b[0m\u001b[0m\n\u001b[1;32m      3\u001b[0m \u001b[0molym\u001b[0m\u001b[1;33m.\u001b[0m\u001b[0mhead\u001b[0m\u001b[1;33m(\u001b[0m\u001b[1;33m)\u001b[0m\u001b[1;33m\u001b[0m\u001b[0m\n",
      "\u001b[0;31mNameError\u001b[0m: name 'olym' is not defined"
     ]
    }
   ],
   "source": []
  },
  {
   "cell_type": "code",
   "execution_count": 23,
   "metadata": {
    "collapsed": false
   },
   "outputs": [
    {
     "ename": "SyntaxError",
     "evalue": "invalid syntax (<ipython-input-23-90e995f64e46>, line 1)",
     "output_type": "error",
     "traceback": [
      "\u001b[0;36m  File \u001b[0;32m\"<ipython-input-23-90e995f64e46>\"\u001b[0;36m, line \u001b[0;32m1\u001b[0m\n\u001b[0;31m    olym.loc[olym.Athlete_name='HAJOS, ALFRED']\u001b[0m\n\u001b[0m                              ^\u001b[0m\n\u001b[0;31mSyntaxError\u001b[0m\u001b[0;31m:\u001b[0m invalid syntax\n"
     ]
    }
   ],
   "source": [
    "olym.loc[olym.Athlete_name='HAJOS, ALFRED']\n",
    "#Because unnecssary spaces exist"
   ]
  },
  {
   "cell_type": "code",
   "execution_count": 24,
   "metadata": {
    "collapsed": false
   },
   "outputs": [
    {
     "data": {
      "text/plain": [
       "'HAJOS, ALFRED'"
      ]
     },
     "execution_count": 24,
     "metadata": {},
     "output_type": "execute_result"
    }
   ],
   "source": []
  },
  {
   "cell_type": "code",
   "execution_count": 25,
   "metadata": {
    "collapsed": true
   },
   "outputs": [],
   "source": [
    "# Changing Data Types"
   ]
  },
  {
   "cell_type": "code",
   "execution_count": 26,
   "metadata": {
    "collapsed": false
   },
   "outputs": [],
   "source": [
    "t.Price=pd.to_numeric(t.Price)#Changes dtype and saved to repective column\n",
    "                                #as no  inplace paramter exists"
   ]
  },
  {
   "cell_type": "code",
   "execution_count": 27,
   "metadata": {
    "collapsed": false
   },
   "outputs": [
    {
     "name": "stdout",
     "output_type": "stream",
     "text": [
      "<class 'pandas.core.frame.DataFrame'>\n",
      "RangeIndex: 890 entries, 0 to 889\n",
      "Data columns (total 10 columns):\n",
      "Unnamed: 0    890 non-null int64\n",
      "Alive         890 non-null object\n",
      "Class         890 non-null int64\n",
      "Gender        890 non-null object\n",
      "Age           754 non-null object\n",
      "Siblings      890 non-null int64\n",
      "Parch         890 non-null int64\n",
      "Price         890 non-null float64\n",
      "Emb           888 non-null object\n",
      "Deck          202 non-null object\n",
      "dtypes: float64(1), int64(4), object(5)\n",
      "memory usage: 52.2+ KB\n"
     ]
    }
   ],
   "source": [
    "t.info()"
   ]
  },
  {
   "cell_type": "code",
   "execution_count": 28,
   "metadata": {
    "collapsed": false
   },
   "outputs": [
    {
     "data": {
      "text/plain": [
       "0     7.925\n",
       "1    53.100\n",
       "Name: Price, dtype: float64"
      ]
     },
     "execution_count": 28,
     "metadata": {},
     "output_type": "execute_result"
    }
   ],
   "source": [
    "t.Price.astype('float').head(2)#Another method to do the same"
   ]
  },
  {
   "cell_type": "raw",
   "metadata": {},
   "source": [
    "#Nan Values or missing values"
   ]
  },
  {
   "cell_type": "code",
   "execution_count": 29,
   "metadata": {
    "collapsed": true
   },
   "outputs": [],
   "source": []
  },
  {
   "cell_type": "code",
   "execution_count": 30,
   "metadata": {
    "collapsed": false
   },
   "outputs": [
    {
     "data": {
      "text/html": [
       "<div>\n",
       "<style scoped>\n",
       "    .dataframe tbody tr th:only-of-type {\n",
       "        vertical-align: middle;\n",
       "    }\n",
       "\n",
       "    .dataframe tbody tr th {\n",
       "        vertical-align: top;\n",
       "    }\n",
       "\n",
       "    .dataframe thead th {\n",
       "        text-align: right;\n",
       "    }\n",
       "</style>\n",
       "<table border=\"1\" class=\"dataframe\">\n",
       "  <thead>\n",
       "    <tr style=\"text-align: right;\">\n",
       "      <th></th>\n",
       "      <th>Unnamed: 0</th>\n",
       "      <th>Mon</th>\n",
       "      <th>Tue</th>\n",
       "      <th>Wed</th>\n",
       "      <th>Thu</th>\n",
       "      <th>Fri</th>\n",
       "    </tr>\n",
       "  </thead>\n",
       "  <tbody>\n",
       "    <tr>\n",
       "      <th>0</th>\n",
       "      <td>Steven</td>\n",
       "      <td>34</td>\n",
       "      <td>27</td>\n",
       "      <td>15</td>\n",
       "      <td>NaN</td>\n",
       "      <td>33</td>\n",
       "    </tr>\n",
       "    <tr>\n",
       "      <th>1</th>\n",
       "      <td>Mike</td>\n",
       "      <td>45</td>\n",
       "      <td>9</td>\n",
       "      <td>74</td>\n",
       "      <td>87.0</td>\n",
       "      <td>12</td>\n",
       "    </tr>\n",
       "    <tr>\n",
       "      <th>2</th>\n",
       "      <td>Andi</td>\n",
       "      <td>17</td>\n",
       "      <td>33</td>\n",
       "      <td>54</td>\n",
       "      <td>8.0</td>\n",
       "      <td>29</td>\n",
       "    </tr>\n",
       "    <tr>\n",
       "      <th>3</th>\n",
       "      <td>Paul</td>\n",
       "      <td>87</td>\n",
       "      <td>67</td>\n",
       "      <td>27</td>\n",
       "      <td>45.0</td>\n",
       "      <td>7</td>\n",
       "    </tr>\n",
       "  </tbody>\n",
       "</table>\n",
       "</div>"
      ],
      "text/plain": [
       "  Unnamed: 0  Mon  Tue  Wed   Thu  Fri\n",
       "0     Steven   34   27   15   NaN   33\n",
       "1       Mike   45    9   74  87.0   12\n",
       "2       Andi   17   33   54   8.0   29\n",
       "3       Paul   87   67   27  45.0    7"
      ]
     },
     "execution_count": 30,
     "metadata": {},
     "output_type": "execute_result"
    }
   ],
   "source": [
    "sales"
   ]
  },
  {
   "cell_type": "code",
   "execution_count": 31,
   "metadata": {
    "collapsed": false
   },
   "outputs": [],
   "source": []
  },
  {
   "cell_type": "code",
   "execution_count": 32,
   "metadata": {
    "collapsed": false
   },
   "outputs": [
    {
     "data": {
      "text/plain": [
       "0     NaN\n",
       "1    87.0\n",
       "2     8.0\n",
       "3    45.0\n",
       "Name: Thu, dtype: float64"
      ]
     },
     "execution_count": 32,
     "metadata": {},
     "output_type": "execute_result"
    }
   ],
   "source": []
  },
  {
   "cell_type": "code",
   "execution_count": 33,
   "metadata": {
    "collapsed": false
   },
   "outputs": [],
   "source": []
  },
  {
   "cell_type": "code",
   "execution_count": 34,
   "metadata": {
    "collapsed": false
   },
   "outputs": [
    {
     "data": {
      "text/html": [
       "<div>\n",
       "<style scoped>\n",
       "    .dataframe tbody tr th:only-of-type {\n",
       "        vertical-align: middle;\n",
       "    }\n",
       "\n",
       "    .dataframe tbody tr th {\n",
       "        vertical-align: top;\n",
       "    }\n",
       "\n",
       "    .dataframe thead th {\n",
       "        text-align: right;\n",
       "    }\n",
       "</style>\n",
       "<table border=\"1\" class=\"dataframe\">\n",
       "  <thead>\n",
       "    <tr style=\"text-align: right;\">\n",
       "      <th></th>\n",
       "      <th>Names</th>\n",
       "      <th>Mon</th>\n",
       "      <th>Tue</th>\n",
       "      <th>Wed</th>\n",
       "      <th>Thu</th>\n",
       "      <th>Fri</th>\n",
       "    </tr>\n",
       "  </thead>\n",
       "  <tbody>\n",
       "    <tr>\n",
       "      <th>0</th>\n",
       "      <td>Steven</td>\n",
       "      <td>34</td>\n",
       "      <td>27</td>\n",
       "      <td>15</td>\n",
       "      <td>NaN</td>\n",
       "      <td>NaN</td>\n",
       "    </tr>\n",
       "    <tr>\n",
       "      <th>1</th>\n",
       "      <td>Mike</td>\n",
       "      <td>45</td>\n",
       "      <td>9</td>\n",
       "      <td>74</td>\n",
       "      <td>87.0</td>\n",
       "      <td>12.0</td>\n",
       "    </tr>\n",
       "    <tr>\n",
       "      <th>2</th>\n",
       "      <td>Andi</td>\n",
       "      <td>17</td>\n",
       "      <td>33</td>\n",
       "      <td>54</td>\n",
       "      <td>8.0</td>\n",
       "      <td>29.0</td>\n",
       "    </tr>\n",
       "    <tr>\n",
       "      <th>3</th>\n",
       "      <td>Paul</td>\n",
       "      <td>87</td>\n",
       "      <td>67</td>\n",
       "      <td>27</td>\n",
       "      <td>45.0</td>\n",
       "      <td>7.0</td>\n",
       "    </tr>\n",
       "  </tbody>\n",
       "</table>\n",
       "</div>"
      ],
      "text/plain": [
       "    Names  Mon  Tue  Wed   Thu   Fri\n",
       "0  Steven   34   27   15   NaN   NaN\n",
       "1    Mike   45    9   74  87.0  12.0\n",
       "2    Andi   17   33   54   8.0  29.0\n",
       "3    Paul   87   67   27  45.0   7.0"
      ]
     },
     "execution_count": 34,
     "metadata": {},
     "output_type": "execute_result"
    }
   ],
   "source": []
  },
  {
   "cell_type": "code",
   "execution_count": 35,
   "metadata": {
    "collapsed": true
   },
   "outputs": [],
   "source": [
    "#Detecting missing Values"
   ]
  },
  {
   "cell_type": "code",
   "execution_count": 36,
   "metadata": {
    "collapsed": false
   },
   "outputs": [
    {
     "data": {
      "text/html": [
       "<div>\n",
       "<style scoped>\n",
       "    .dataframe tbody tr th:only-of-type {\n",
       "        vertical-align: middle;\n",
       "    }\n",
       "\n",
       "    .dataframe tbody tr th {\n",
       "        vertical-align: top;\n",
       "    }\n",
       "\n",
       "    .dataframe thead th {\n",
       "        text-align: right;\n",
       "    }\n",
       "</style>\n",
       "<table border=\"1\" class=\"dataframe\">\n",
       "  <thead>\n",
       "    <tr style=\"text-align: right;\">\n",
       "      <th></th>\n",
       "      <th>Unnamed: 0</th>\n",
       "      <th>Alive</th>\n",
       "      <th>Class</th>\n",
       "      <th>Gender</th>\n",
       "      <th>Age</th>\n",
       "      <th>Siblings</th>\n",
       "      <th>Parch</th>\n",
       "      <th>Price</th>\n",
       "      <th>Emb</th>\n",
       "      <th>Deck</th>\n",
       "    </tr>\n",
       "  </thead>\n",
       "  <tbody>\n",
       "    <tr>\n",
       "      <th>0</th>\n",
       "      <td>2</td>\n",
       "      <td>1</td>\n",
       "      <td>3</td>\n",
       "      <td>female</td>\n",
       "      <td>26.0</td>\n",
       "      <td>0</td>\n",
       "      <td>0</td>\n",
       "      <td>7.925</td>\n",
       "      <td>S</td>\n",
       "      <td>NaN</td>\n",
       "    </tr>\n",
       "    <tr>\n",
       "      <th>1</th>\n",
       "      <td>3</td>\n",
       "      <td>1</td>\n",
       "      <td>1</td>\n",
       "      <td>female</td>\n",
       "      <td>35.0</td>\n",
       "      <td>1</td>\n",
       "      <td>0</td>\n",
       "      <td>53.100</td>\n",
       "      <td>S</td>\n",
       "      <td>C</td>\n",
       "    </tr>\n",
       "  </tbody>\n",
       "</table>\n",
       "</div>"
      ],
      "text/plain": [
       "   Unnamed: 0 Alive  Class  Gender   Age  Siblings  Parch   Price Emb Deck\n",
       "0           2     1      3  female  26.0         0      0   7.925   S  NaN\n",
       "1           3     1      1  female  35.0         1      0  53.100   S    C"
      ]
     },
     "execution_count": 36,
     "metadata": {},
     "output_type": "execute_result"
    }
   ],
   "source": [
    "t.head(2)\n"
   ]
  },
  {
   "cell_type": "code",
   "execution_count": 37,
   "metadata": {
    "collapsed": false
   },
   "outputs": [
    {
     "name": "stdout",
     "output_type": "stream",
     "text": [
      "<class 'pandas.core.frame.DataFrame'>\n",
      "RangeIndex: 890 entries, 0 to 889\n",
      "Data columns (total 10 columns):\n",
      "Unnamed: 0    890 non-null int64\n",
      "Alive         890 non-null object\n",
      "Class         890 non-null int64\n",
      "Gender        890 non-null object\n",
      "Age           754 non-null object\n",
      "Siblings      890 non-null int64\n",
      "Parch         890 non-null int64\n",
      "Price         890 non-null float64\n",
      "Emb           888 non-null object\n",
      "Deck          202 non-null object\n",
      "dtypes: float64(1), int64(4), object(5)\n",
      "memory usage: 52.2+ KB\n"
     ]
    }
   ],
   "source": [
    "t.info()# We can have a rough figure of Nan values from the following"
   ]
  },
  {
   "cell_type": "code",
   "execution_count": 38,
   "metadata": {
    "collapsed": false
   },
   "outputs": [
    {
     "data": {
      "text/plain": [
       "Unnamed: 0      0\n",
       "Alive           0\n",
       "Class           0\n",
       "Gender          0\n",
       "Age           136\n",
       "Siblings        0\n",
       "Parch           0\n",
       "Price           0\n",
       "Emb             2\n",
       "Deck          688\n",
       "dtype: int64"
      ]
     },
     "execution_count": 38,
     "metadata": {},
     "output_type": "execute_result"
    }
   ],
   "source": [
    "t.isna().sum(axis=0)#finding the number of na values"
   ]
  },
  {
   "cell_type": "code",
   "execution_count": 39,
   "metadata": {
    "collapsed": false
   },
   "outputs": [
    {
     "data": {
      "text/plain": [
       "Unnamed: 0    890\n",
       "Alive         890\n",
       "Class         890\n",
       "Gender        890\n",
       "Age           754\n",
       "Siblings      890\n",
       "Parch         890\n",
       "Price         890\n",
       "Emb           888\n",
       "Deck          202\n",
       "dtype: int64"
      ]
     },
     "execution_count": 39,
     "metadata": {},
     "output_type": "execute_result"
    }
   ],
   "source": [
    "t.notna().sum(axis=0)#checkig hot notna/True values"
   ]
  },
  {
   "cell_type": "code",
   "execution_count": 40,
   "metadata": {
    "collapsed": false
   },
   "outputs": [
    {
     "data": {
      "text/plain": [
       "Unnamed: 0    False\n",
       "Alive         False\n",
       "Class         False\n",
       "Gender        False\n",
       "Age            True\n",
       "Siblings      False\n",
       "Parch         False\n",
       "Price         False\n",
       "Emb            True\n",
       "Deck           True\n",
       "dtype: bool"
      ]
     },
     "execution_count": 40,
     "metadata": {},
     "output_type": "execute_result"
    }
   ],
   "source": [
    "t.isna().any(axis=0)\n"
   ]
  },
  {
   "cell_type": "code",
   "execution_count": 41,
   "metadata": {
    "collapsed": false
   },
   "outputs": [
    {
     "data": {
      "text/plain": [
       "NaN             136\n",
       "Missing Data     41\n",
       "Name: Age, dtype: int64"
      ]
     },
     "execution_count": 41,
     "metadata": {},
     "output_type": "execute_result"
    }
   ],
   "source": [
    "t.Age.value_counts(dropna=False).head(2)"
   ]
  },
  {
   "cell_type": "code",
   "execution_count": 42,
   "metadata": {
    "collapsed": false
   },
   "outputs": [],
   "source": [
    "import numpy as np\n",
    "#replacing missing values with na\n",
    "t.replace(to_replace='Missing Data',value=np.nan,inplace=True)"
   ]
  },
  {
   "cell_type": "code",
   "execution_count": 43,
   "metadata": {
    "collapsed": false
   },
   "outputs": [
    {
     "name": "stdout",
     "output_type": "stream",
     "text": [
      "<class 'pandas.core.frame.DataFrame'>\n",
      "RangeIndex: 890 entries, 0 to 889\n",
      "Data columns (total 10 columns):\n",
      "Unnamed: 0    890 non-null int64\n",
      "Alive         890 non-null object\n",
      "Class         890 non-null int64\n",
      "Gender        890 non-null object\n",
      "Age           713 non-null object\n",
      "Siblings      890 non-null int64\n",
      "Parch         890 non-null int64\n",
      "Price         890 non-null float64\n",
      "Emb           888 non-null object\n",
      "Deck          202 non-null object\n",
      "dtypes: float64(1), int64(4), object(5)\n",
      "memory usage: 52.2+ KB\n"
     ]
    }
   ],
   "source": [
    "t.info()#hence object type missing data eradicated"
   ]
  },
  {
   "cell_type": "raw",
   "metadata": {
    "collapsed": true
   },
   "source": [
    "Removing NA Values "
   ]
  },
  {
   "cell_type": "code",
   "execution_count": 57,
   "metadata": {
    "collapsed": false
   },
   "outputs": [
    {
     "ename": "KeyError",
     "evalue": "\"['Unnamed: 0'] not found in axis\"",
     "output_type": "error",
     "traceback": [
      "\u001b[0;31m---------------------------------------------------------------------------\u001b[0m",
      "\u001b[0;31mKeyError\u001b[0m                                  Traceback (most recent call last)",
      "\u001b[0;32m<ipython-input-57-de53dde39fc4>\u001b[0m in \u001b[0;36m<module>\u001b[0;34m()\u001b[0m\n\u001b[0;32m----> 1\u001b[0;31m \u001b[0mt\u001b[0m\u001b[1;33m.\u001b[0m\u001b[0mdrop\u001b[0m\u001b[1;33m(\u001b[0m\u001b[0mcolumns\u001b[0m\u001b[1;33m=\u001b[0m\u001b[1;34m'Unnamed: 0'\u001b[0m\u001b[1;33m,\u001b[0m\u001b[0minplace\u001b[0m\u001b[1;33m=\u001b[0m\u001b[1;32mTrue\u001b[0m\u001b[1;33m)\u001b[0m\u001b[1;33m\u001b[0m\u001b[0m\n\u001b[0m\u001b[1;32m      2\u001b[0m \u001b[0mt\u001b[0m\u001b[1;33m.\u001b[0m\u001b[0mhead\u001b[0m\u001b[1;33m(\u001b[0m\u001b[1;33m)\u001b[0m\u001b[1;33m\u001b[0m\u001b[0m\n",
      "\u001b[0;32mC:\\Users\\Haider\\Desktop\\New folder\\lib\\site-packages\\pandas\\core\\frame.py\u001b[0m in \u001b[0;36mdrop\u001b[0;34m(self, labels, axis, index, columns, level, inplace, errors)\u001b[0m\n\u001b[1;32m   3695\u001b[0m                                            \u001b[0mindex\u001b[0m\u001b[1;33m=\u001b[0m\u001b[0mindex\u001b[0m\u001b[1;33m,\u001b[0m \u001b[0mcolumns\u001b[0m\u001b[1;33m=\u001b[0m\u001b[0mcolumns\u001b[0m\u001b[1;33m,\u001b[0m\u001b[1;33m\u001b[0m\u001b[0m\n\u001b[1;32m   3696\u001b[0m                                            \u001b[0mlevel\u001b[0m\u001b[1;33m=\u001b[0m\u001b[0mlevel\u001b[0m\u001b[1;33m,\u001b[0m \u001b[0minplace\u001b[0m\u001b[1;33m=\u001b[0m\u001b[0minplace\u001b[0m\u001b[1;33m,\u001b[0m\u001b[1;33m\u001b[0m\u001b[0m\n\u001b[0;32m-> 3697\u001b[0;31m                                            errors=errors)\n\u001b[0m\u001b[1;32m   3698\u001b[0m \u001b[1;33m\u001b[0m\u001b[0m\n\u001b[1;32m   3699\u001b[0m     @rewrite_axis_style_signature('mapper', [('copy', True),\n",
      "\u001b[0;32mC:\\Users\\Haider\\Desktop\\New folder\\lib\\site-packages\\pandas\\core\\generic.py\u001b[0m in \u001b[0;36mdrop\u001b[0;34m(self, labels, axis, index, columns, level, inplace, errors)\u001b[0m\n\u001b[1;32m   3109\u001b[0m         \u001b[1;32mfor\u001b[0m \u001b[0maxis\u001b[0m\u001b[1;33m,\u001b[0m \u001b[0mlabels\u001b[0m \u001b[1;32min\u001b[0m \u001b[0maxes\u001b[0m\u001b[1;33m.\u001b[0m\u001b[0mitems\u001b[0m\u001b[1;33m(\u001b[0m\u001b[1;33m)\u001b[0m\u001b[1;33m:\u001b[0m\u001b[1;33m\u001b[0m\u001b[0m\n\u001b[1;32m   3110\u001b[0m             \u001b[1;32mif\u001b[0m \u001b[0mlabels\u001b[0m \u001b[1;32mis\u001b[0m \u001b[1;32mnot\u001b[0m \u001b[1;32mNone\u001b[0m\u001b[1;33m:\u001b[0m\u001b[1;33m\u001b[0m\u001b[0m\n\u001b[0;32m-> 3111\u001b[0;31m                 \u001b[0mobj\u001b[0m \u001b[1;33m=\u001b[0m \u001b[0mobj\u001b[0m\u001b[1;33m.\u001b[0m\u001b[0m_drop_axis\u001b[0m\u001b[1;33m(\u001b[0m\u001b[0mlabels\u001b[0m\u001b[1;33m,\u001b[0m \u001b[0maxis\u001b[0m\u001b[1;33m,\u001b[0m \u001b[0mlevel\u001b[0m\u001b[1;33m=\u001b[0m\u001b[0mlevel\u001b[0m\u001b[1;33m,\u001b[0m \u001b[0merrors\u001b[0m\u001b[1;33m=\u001b[0m\u001b[0merrors\u001b[0m\u001b[1;33m)\u001b[0m\u001b[1;33m\u001b[0m\u001b[0m\n\u001b[0m\u001b[1;32m   3112\u001b[0m \u001b[1;33m\u001b[0m\u001b[0m\n\u001b[1;32m   3113\u001b[0m         \u001b[1;32mif\u001b[0m \u001b[0minplace\u001b[0m\u001b[1;33m:\u001b[0m\u001b[1;33m\u001b[0m\u001b[0m\n",
      "\u001b[0;32mC:\\Users\\Haider\\Desktop\\New folder\\lib\\site-packages\\pandas\\core\\generic.py\u001b[0m in \u001b[0;36m_drop_axis\u001b[0;34m(self, labels, axis, level, errors)\u001b[0m\n\u001b[1;32m   3141\u001b[0m                 \u001b[0mnew_axis\u001b[0m \u001b[1;33m=\u001b[0m \u001b[0maxis\u001b[0m\u001b[1;33m.\u001b[0m\u001b[0mdrop\u001b[0m\u001b[1;33m(\u001b[0m\u001b[0mlabels\u001b[0m\u001b[1;33m,\u001b[0m \u001b[0mlevel\u001b[0m\u001b[1;33m=\u001b[0m\u001b[0mlevel\u001b[0m\u001b[1;33m,\u001b[0m \u001b[0merrors\u001b[0m\u001b[1;33m=\u001b[0m\u001b[0merrors\u001b[0m\u001b[1;33m)\u001b[0m\u001b[1;33m\u001b[0m\u001b[0m\n\u001b[1;32m   3142\u001b[0m             \u001b[1;32melse\u001b[0m\u001b[1;33m:\u001b[0m\u001b[1;33m\u001b[0m\u001b[0m\n\u001b[0;32m-> 3143\u001b[0;31m                 \u001b[0mnew_axis\u001b[0m \u001b[1;33m=\u001b[0m \u001b[0maxis\u001b[0m\u001b[1;33m.\u001b[0m\u001b[0mdrop\u001b[0m\u001b[1;33m(\u001b[0m\u001b[0mlabels\u001b[0m\u001b[1;33m,\u001b[0m \u001b[0merrors\u001b[0m\u001b[1;33m=\u001b[0m\u001b[0merrors\u001b[0m\u001b[1;33m)\u001b[0m\u001b[1;33m\u001b[0m\u001b[0m\n\u001b[0m\u001b[1;32m   3144\u001b[0m             \u001b[0mresult\u001b[0m \u001b[1;33m=\u001b[0m \u001b[0mself\u001b[0m\u001b[1;33m.\u001b[0m\u001b[0mreindex\u001b[0m\u001b[1;33m(\u001b[0m\u001b[1;33m**\u001b[0m\u001b[1;33m{\u001b[0m\u001b[0maxis_name\u001b[0m\u001b[1;33m:\u001b[0m \u001b[0mnew_axis\u001b[0m\u001b[1;33m}\u001b[0m\u001b[1;33m)\u001b[0m\u001b[1;33m\u001b[0m\u001b[0m\n\u001b[1;32m   3145\u001b[0m \u001b[1;33m\u001b[0m\u001b[0m\n",
      "\u001b[0;32mC:\\Users\\Haider\\Desktop\\New folder\\lib\\site-packages\\pandas\\core\\indexes\\base.py\u001b[0m in \u001b[0;36mdrop\u001b[0;34m(self, labels, errors)\u001b[0m\n\u001b[1;32m   4402\u001b[0m             \u001b[1;32mif\u001b[0m \u001b[0merrors\u001b[0m \u001b[1;33m!=\u001b[0m \u001b[1;34m'ignore'\u001b[0m\u001b[1;33m:\u001b[0m\u001b[1;33m\u001b[0m\u001b[0m\n\u001b[1;32m   4403\u001b[0m                 raise KeyError(\n\u001b[0;32m-> 4404\u001b[0;31m                     '{} not found in axis'.format(labels[mask]))\n\u001b[0m\u001b[1;32m   4405\u001b[0m             \u001b[0mindexer\u001b[0m \u001b[1;33m=\u001b[0m \u001b[0mindexer\u001b[0m\u001b[1;33m[\u001b[0m\u001b[1;33m~\u001b[0m\u001b[0mmask\u001b[0m\u001b[1;33m]\u001b[0m\u001b[1;33m\u001b[0m\u001b[0m\n\u001b[1;32m   4406\u001b[0m         \u001b[1;32mreturn\u001b[0m \u001b[0mself\u001b[0m\u001b[1;33m.\u001b[0m\u001b[0mdelete\u001b[0m\u001b[1;33m(\u001b[0m\u001b[0mindexer\u001b[0m\u001b[1;33m)\u001b[0m\u001b[1;33m\u001b[0m\u001b[0m\n",
      "\u001b[0;31mKeyError\u001b[0m: \"['Unnamed: 0'] not found in axis\""
     ]
    }
   ],
   "source": [
    "t.drop(columns='Unnamed: 0',inplace=True)\n",
    "t.head()"
   ]
  },
  {
   "cell_type": "code",
   "execution_count": 58,
   "metadata": {
    "collapsed": false
   },
   "outputs": [
    {
     "name": "stdout",
     "output_type": "stream",
     "text": [
      "<class 'pandas.core.frame.DataFrame'>\n",
      "RangeIndex: 890 entries, 0 to 889\n",
      "Data columns (total 9 columns):\n",
      "Alive       890 non-null object\n",
      "Class       890 non-null int64\n",
      "Gender      890 non-null object\n",
      "Age         713 non-null object\n",
      "Siblings    890 non-null int64\n",
      "Parch       890 non-null int64\n",
      "Price       890 non-null float64\n",
      "Emb         888 non-null object\n",
      "Deck        202 non-null object\n",
      "dtypes: float64(1), int64(3), object(5)\n",
      "memory usage: 45.2+ KB\n"
     ]
    }
   ],
   "source": [
    "t.info()"
   ]
  },
  {
   "cell_type": "code",
   "execution_count": 59,
   "metadata": {
    "collapsed": true
   },
   "outputs": [],
   "source": [
    "#we can either replace,remove(rows to columns) or maintain Na values\n",
    "#solutions depend on the data set"
   ]
  },
  {
   "cell_type": "code",
   "execution_count": 60,
   "metadata": {
    "collapsed": false
   },
   "outputs": [
    {
     "data": {
      "text/html": [
       "<div>\n",
       "<style scoped>\n",
       "    .dataframe tbody tr th:only-of-type {\n",
       "        vertical-align: middle;\n",
       "    }\n",
       "\n",
       "    .dataframe tbody tr th {\n",
       "        vertical-align: top;\n",
       "    }\n",
       "\n",
       "    .dataframe thead th {\n",
       "        text-align: right;\n",
       "    }\n",
       "</style>\n",
       "<table border=\"1\" class=\"dataframe\">\n",
       "  <thead>\n",
       "    <tr style=\"text-align: right;\">\n",
       "      <th></th>\n",
       "      <th>Alive</th>\n",
       "      <th>Class</th>\n",
       "      <th>Gender</th>\n",
       "      <th>Age</th>\n",
       "      <th>Siblings</th>\n",
       "      <th>Parch</th>\n",
       "      <th>Price</th>\n",
       "      <th>Emb</th>\n",
       "      <th>Deck</th>\n",
       "    </tr>\n",
       "  </thead>\n",
       "  <tbody>\n",
       "    <tr>\n",
       "      <th>59</th>\n",
       "      <td>1</td>\n",
       "      <td>1</td>\n",
       "      <td>female</td>\n",
       "      <td>38.0</td>\n",
       "      <td>0</td>\n",
       "      <td>0</td>\n",
       "      <td>80.0</td>\n",
       "      <td>NaN</td>\n",
       "      <td>B</td>\n",
       "    </tr>\n",
       "    <tr>\n",
       "      <th>827</th>\n",
       "      <td>1</td>\n",
       "      <td>1</td>\n",
       "      <td>female</td>\n",
       "      <td>62.0</td>\n",
       "      <td>0</td>\n",
       "      <td>0</td>\n",
       "      <td>80.0</td>\n",
       "      <td>NaN</td>\n",
       "      <td>B</td>\n",
       "    </tr>\n",
       "  </tbody>\n",
       "</table>\n",
       "</div>"
      ],
      "text/plain": [
       "    Alive  Class  Gender   Age  Siblings  Parch  Price  Emb Deck\n",
       "59      1      1  female  38.0         0      0   80.0  NaN    B\n",
       "827     1      1  female  62.0         0      0   80.0  NaN    B"
      ]
     },
     "execution_count": 60,
     "metadata": {},
     "output_type": "execute_result"
    }
   ],
   "source": [
    "t.loc[t.Emb.isna()]# hence we have two misssing values in Emb column\n",
    "#Removing rows will affect other data"
   ]
  },
  {
   "cell_type": "code",
   "execution_count": 61,
   "metadata": {
    "collapsed": false
   },
   "outputs": [
    {
     "data": {
      "text/plain": [
       "NaN     177\n",
       "24.0     31\n",
       "Name: Age, dtype: int64"
      ]
     },
     "execution_count": 61,
     "metadata": {},
     "output_type": "execute_result"
    }
   ],
   "source": [
    "t.Age.value_counts(dropna=False).head(2)\n",
    "#Hence 177 na value in age"
   ]
  },
  {
   "cell_type": "code",
   "execution_count": 62,
   "metadata": {
    "collapsed": false
   },
   "outputs": [
    {
     "data": {
      "text/plain": [
       "(181, 9)"
      ]
     },
     "execution_count": 62,
     "metadata": {},
     "output_type": "execute_result"
    }
   ],
   "source": [
    "t.dropna(axis=0).shape#a dangerous move to remove every row with an na value"
   ]
  },
  {
   "cell_type": "code",
   "execution_count": 63,
   "metadata": {
    "collapsed": false
   },
   "outputs": [
    {
     "data": {
      "text/plain": [
       "(181, 9)"
      ]
     },
     "execution_count": 63,
     "metadata": {},
     "output_type": "execute_result"
    }
   ],
   "source": [
    "t.dropna(axis=0,how='any').shape"
   ]
  },
  {
   "cell_type": "code",
   "execution_count": 64,
   "metadata": {
    "collapsed": false
   },
   "outputs": [
    {
     "data": {
      "text/plain": [
       "(890, 6)"
      ]
     },
     "execution_count": 64,
     "metadata": {},
     "output_type": "execute_result"
    }
   ],
   "source": [
    "t.dropna(axis=1,how='any').shape#all rows with any missing value"
   ]
  },
  {
   "cell_type": "code",
   "execution_count": 65,
   "metadata": {
    "collapsed": false
   },
   "outputs": [
    {
     "data": {
      "text/plain": [
       "(890, 9)"
      ]
     },
     "execution_count": 65,
     "metadata": {},
     "output_type": "execute_result"
    }
   ],
   "source": [
    "t.dropna(axis=1,how='all').shape#any column with all missing value"
   ]
  },
  {
   "cell_type": "code",
   "execution_count": 66,
   "metadata": {
    "collapsed": false
   },
   "outputs": [
    {
     "data": {
      "text/plain": [
       "(890, 9)"
      ]
     },
     "execution_count": 66,
     "metadata": {},
     "output_type": "execute_result"
    }
   ],
   "source": [
    "t.dropna(axis=0,how='all').shape"
   ]
  },
  {
   "cell_type": "code",
   "execution_count": 67,
   "metadata": {
    "collapsed": false
   },
   "outputs": [
    {
     "data": {
      "text/plain": [
       "(732, 9)"
      ]
     },
     "execution_count": 67,
     "metadata": {},
     "output_type": "execute_result"
    }
   ],
   "source": [
    "t.dropna(axis=0,thresh=8).shape#dropping all rows with atleast two missing values"
   ]
  },
  {
   "cell_type": "code",
   "execution_count": 68,
   "metadata": {
    "collapsed": false
   },
   "outputs": [
    {
     "data": {
      "text/plain": [
       "(890, 8)"
      ]
     },
     "execution_count": 68,
     "metadata": {},
     "output_type": "execute_result"
    }
   ],
   "source": [
    "t.dropna(axis=1,thresh=500).shape#dropping dexk columns"
   ]
  },
  {
   "cell_type": "code",
   "execution_count": 69,
   "metadata": {
    "collapsed": false
   },
   "outputs": [
    {
     "data": {
      "text/plain": [
       "(713, 9)"
      ]
     },
     "execution_count": 69,
     "metadata": {},
     "output_type": "execute_result"
    }
   ],
   "source": [
    "t.dropna(axis=0,subset=['Class','Alive','Age'],how='any').shape#dropping any row\n",
    "#with missing value in the follwing"
   ]
  },
  {
   "cell_type": "code",
   "execution_count": 70,
   "metadata": {
    "collapsed": false
   },
   "outputs": [
    {
     "data": {
      "text/plain": [
       "(713, 9)"
      ]
     },
     "execution_count": 70,
     "metadata": {},
     "output_type": "execute_result"
    }
   ],
   "source": [
    "t.dropna(axis=0,subset=['Class','Alive','Age'],thresh=3).shape#doing the  same with thresh"
   ]
  },
  {
   "cell_type": "code",
   "execution_count": 71,
   "metadata": {
    "collapsed": false
   },
   "outputs": [
    {
     "data": {
      "text/html": [
       "<div>\n",
       "<style scoped>\n",
       "    .dataframe tbody tr th:only-of-type {\n",
       "        vertical-align: middle;\n",
       "    }\n",
       "\n",
       "    .dataframe tbody tr th {\n",
       "        vertical-align: top;\n",
       "    }\n",
       "\n",
       "    .dataframe thead th {\n",
       "        text-align: right;\n",
       "    }\n",
       "</style>\n",
       "<table border=\"1\" class=\"dataframe\">\n",
       "  <thead>\n",
       "    <tr style=\"text-align: right;\">\n",
       "      <th></th>\n",
       "      <th>Year</th>\n",
       "      <th>City</th>\n",
       "      <th>Sport</th>\n",
       "      <th>Discipline</th>\n",
       "      <th>Athlete_name</th>\n",
       "      <th>Country</th>\n",
       "      <th>Gender</th>\n",
       "      <th>Event</th>\n",
       "      <th>Medal</th>\n",
       "    </tr>\n",
       "  </thead>\n",
       "  <tbody>\n",
       "    <tr>\n",
       "      <th>29608</th>\n",
       "      <td>2012</td>\n",
       "      <td>London</td>\n",
       "      <td>Athletics</td>\n",
       "      <td>Athletics</td>\n",
       "      <td>PENDING</td>\n",
       "      <td>NaN</td>\n",
       "      <td>Women</td>\n",
       "      <td>1500M</td>\n",
       "      <td>Gold</td>\n",
       "    </tr>\n",
       "    <tr>\n",
       "      <th>31077</th>\n",
       "      <td>2012</td>\n",
       "      <td>London</td>\n",
       "      <td>Weightlifting</td>\n",
       "      <td>Weightlifting</td>\n",
       "      <td>PENDING</td>\n",
       "      <td>NaN</td>\n",
       "      <td>Women</td>\n",
       "      <td>63KG</td>\n",
       "      <td>Gold</td>\n",
       "    </tr>\n",
       "    <tr>\n",
       "      <th>31096</th>\n",
       "      <td>2012</td>\n",
       "      <td>London</td>\n",
       "      <td>Weightlifting</td>\n",
       "      <td>Weightlifting</td>\n",
       "      <td>PENDING</td>\n",
       "      <td>NaN</td>\n",
       "      <td>Men</td>\n",
       "      <td>94KG</td>\n",
       "      <td>Silver</td>\n",
       "    </tr>\n",
       "    <tr>\n",
       "      <th>31115</th>\n",
       "      <td>2012</td>\n",
       "      <td>London</td>\n",
       "      <td>Wrestling</td>\n",
       "      <td>Wrestling Freestyle</td>\n",
       "      <td>KUDUKHOV, BESIK</td>\n",
       "      <td>NaN</td>\n",
       "      <td>Men</td>\n",
       "      <td>Wf 60 KG</td>\n",
       "      <td>Silver</td>\n",
       "    </tr>\n",
       "  </tbody>\n",
       "</table>\n",
       "</div>"
      ],
      "text/plain": [
       "       Year    City          Sport           Discipline       Athlete_name  \\\n",
       "29608  2012  London      Athletics            Athletics           PENDING    \n",
       "31077  2012  London  Weightlifting        Weightlifting           PENDING    \n",
       "31096  2012  London  Weightlifting        Weightlifting           PENDING    \n",
       "31115  2012  London      Wrestling  Wrestling Freestyle   KUDUKHOV, BESIK    \n",
       "\n",
       "      Country Gender     Event   Medal  \n",
       "29608     NaN  Women     1500M    Gold  \n",
       "31077     NaN  Women      63KG    Gold  \n",
       "31096     NaN    Men      94KG  Silver  \n",
       "31115     NaN    Men  Wf 60 KG  Silver  "
      ]
     },
     "execution_count": 71,
     "metadata": {},
     "output_type": "execute_result"
    }
   ],
   "source": []
  },
  {
   "cell_type": "code",
   "execution_count": 72,
   "metadata": {
    "collapsed": true
   },
   "outputs": [],
   "source": []
  },
  {
   "cell_type": "code",
   "execution_count": 73,
   "metadata": {
    "collapsed": false
   },
   "outputs": [
    {
     "data": {
      "text/html": [
       "<div>\n",
       "<style scoped>\n",
       "    .dataframe tbody tr th:only-of-type {\n",
       "        vertical-align: middle;\n",
       "    }\n",
       "\n",
       "    .dataframe tbody tr th {\n",
       "        vertical-align: top;\n",
       "    }\n",
       "\n",
       "    .dataframe thead th {\n",
       "        text-align: right;\n",
       "    }\n",
       "</style>\n",
       "<table border=\"1\" class=\"dataframe\">\n",
       "  <thead>\n",
       "    <tr style=\"text-align: right;\">\n",
       "      <th></th>\n",
       "      <th>Year</th>\n",
       "      <th>City</th>\n",
       "      <th>Sport</th>\n",
       "      <th>Discipline</th>\n",
       "      <th>Athlete_name</th>\n",
       "      <th>Country</th>\n",
       "      <th>Gender</th>\n",
       "      <th>Event</th>\n",
       "      <th>Medal</th>\n",
       "    </tr>\n",
       "  </thead>\n",
       "  <tbody>\n",
       "  </tbody>\n",
       "</table>\n",
       "</div>"
      ],
      "text/plain": [
       "Empty DataFrame\n",
       "Columns: [Year, City, Sport, Discipline, Athlete_name, Country, Gender, Event, Medal]\n",
       "Index: []"
      ]
     },
     "execution_count": 73,
     "metadata": {},
     "output_type": "execute_result"
    }
   ],
   "source": []
  },
  {
   "cell_type": "code",
   "execution_count": 74,
   "metadata": {
    "collapsed": true
   },
   "outputs": [],
   "source": [
    "#filling is Missing Values"
   ]
  },
  {
   "cell_type": "code",
   "execution_count": 75,
   "metadata": {
    "collapsed": false
   },
   "outputs": [],
   "source": [
    "t.Age=pd.to_numeric(t.Age)\n",
    "age_mean=round((t.Age).mean(),0)"
   ]
  },
  {
   "cell_type": "code",
   "execution_count": 76,
   "metadata": {
    "collapsed": false
   },
   "outputs": [
    {
     "name": "stdout",
     "output_type": "stream",
     "text": [
      "<class 'pandas.core.frame.DataFrame'>\n",
      "RangeIndex: 890 entries, 0 to 889\n",
      "Data columns (total 9 columns):\n",
      "Alive       890 non-null object\n",
      "Class       890 non-null int64\n",
      "Gender      890 non-null object\n",
      "Age         890 non-null float64\n",
      "Siblings    890 non-null int64\n",
      "Parch       890 non-null int64\n",
      "Price       890 non-null float64\n",
      "Emb         888 non-null object\n",
      "Deck        202 non-null object\n",
      "dtypes: float64(2), int64(3), object(4)\n",
      "memory usage: 48.7+ KB\n"
     ]
    }
   ],
   "source": [
    "t.Age.fillna(age_mean,inplace=True)#replcaing Values With mean\n",
    "t.info()"
   ]
  },
  {
   "cell_type": "code",
   "execution_count": 77,
   "metadata": {
    "collapsed": true
   },
   "outputs": [],
   "source": [
    "#Duplicates\n",
    "al= pd.DataFrame([\"a\", \"b\", \"c\", \"c\", \"d\", \"e\", \"f\", \"g\", \"g\", \"g\"], columns = [\"Alphabet\"])"
   ]
  },
  {
   "cell_type": "code",
   "execution_count": 78,
   "metadata": {
    "collapsed": false
   },
   "outputs": [
    {
     "data": {
      "text/plain": [
       "0    False\n",
       "1    False\n",
       "2     True\n",
       "3     True\n",
       "4    False\n",
       "5    False\n",
       "6    False\n",
       "7     True\n",
       "8     True\n",
       "9     True\n",
       "dtype: bool"
      ]
     },
     "execution_count": 78,
     "metadata": {},
     "output_type": "execute_result"
    }
   ],
   "source": [
    "al.duplicated(keep=False)\n"
   ]
  },
  {
   "cell_type": "code",
   "execution_count": 79,
   "metadata": {
    "collapsed": false
   },
   "outputs": [
    {
     "data": {
      "text/plain": [
       "0    False\n",
       "1    False\n",
       "2    False\n",
       "3     True\n",
       "4    False\n",
       "5    False\n",
       "6    False\n",
       "7    False\n",
       "8     True\n",
       "9     True\n",
       "dtype: bool"
      ]
     },
     "execution_count": 79,
     "metadata": {},
     "output_type": "execute_result"
    }
   ],
   "source": [
    "al.duplicated(keep='first')"
   ]
  },
  {
   "cell_type": "code",
   "execution_count": 80,
   "metadata": {
    "collapsed": false
   },
   "outputs": [
    {
     "data": {
      "text/html": [
       "<div>\n",
       "<style scoped>\n",
       "    .dataframe tbody tr th:only-of-type {\n",
       "        vertical-align: middle;\n",
       "    }\n",
       "\n",
       "    .dataframe tbody tr th {\n",
       "        vertical-align: top;\n",
       "    }\n",
       "\n",
       "    .dataframe thead th {\n",
       "        text-align: right;\n",
       "    }\n",
       "</style>\n",
       "<table border=\"1\" class=\"dataframe\">\n",
       "  <thead>\n",
       "    <tr style=\"text-align: right;\">\n",
       "      <th></th>\n",
       "      <th>Alphabet</th>\n",
       "    </tr>\n",
       "  </thead>\n",
       "  <tbody>\n",
       "    <tr>\n",
       "      <th>2</th>\n",
       "      <td>c</td>\n",
       "    </tr>\n",
       "    <tr>\n",
       "      <th>3</th>\n",
       "      <td>c</td>\n",
       "    </tr>\n",
       "    <tr>\n",
       "      <th>7</th>\n",
       "      <td>g</td>\n",
       "    </tr>\n",
       "    <tr>\n",
       "      <th>8</th>\n",
       "      <td>g</td>\n",
       "    </tr>\n",
       "    <tr>\n",
       "      <th>9</th>\n",
       "      <td>g</td>\n",
       "    </tr>\n",
       "  </tbody>\n",
       "</table>\n",
       "</div>"
      ],
      "text/plain": [
       "  Alphabet\n",
       "2        c\n",
       "3        c\n",
       "7        g\n",
       "8        g\n",
       "9        g"
      ]
     },
     "execution_count": 80,
     "metadata": {},
     "output_type": "execute_result"
    }
   ],
   "source": [
    "al.loc[al.duplicated(keep=False)]"
   ]
  },
  {
   "cell_type": "code",
   "execution_count": 81,
   "metadata": {
    "collapsed": false
   },
   "outputs": [
    {
     "data": {
      "text/plain": [
       "111"
      ]
     },
     "execution_count": 81,
     "metadata": {},
     "output_type": "execute_result"
    }
   ],
   "source": [
    "t.duplicated(keep='first').sum()# count of duplicates"
   ]
  },
  {
   "cell_type": "code",
   "execution_count": 82,
   "metadata": {
    "collapsed": false
   },
   "outputs": [
    {
     "data": {
      "text/html": [
       "<div>\n",
       "<style scoped>\n",
       "    .dataframe tbody tr th:only-of-type {\n",
       "        vertical-align: middle;\n",
       "    }\n",
       "\n",
       "    .dataframe tbody tr th {\n",
       "        vertical-align: top;\n",
       "    }\n",
       "\n",
       "    .dataframe thead th {\n",
       "        text-align: right;\n",
       "    }\n",
       "</style>\n",
       "<table border=\"1\" class=\"dataframe\">\n",
       "  <thead>\n",
       "    <tr style=\"text-align: right;\">\n",
       "      <th></th>\n",
       "      <th>Alive</th>\n",
       "      <th>Class</th>\n",
       "      <th>Gender</th>\n",
       "      <th>Age</th>\n",
       "      <th>Siblings</th>\n",
       "      <th>Parch</th>\n",
       "      <th>Price</th>\n",
       "      <th>Emb</th>\n",
       "      <th>Deck</th>\n",
       "    </tr>\n",
       "  </thead>\n",
       "  <tbody>\n",
       "    <tr>\n",
       "      <th>2</th>\n",
       "      <td>0</td>\n",
       "      <td>3</td>\n",
       "      <td>male</td>\n",
       "      <td>35.0</td>\n",
       "      <td>0</td>\n",
       "      <td>0</td>\n",
       "      <td>8.0500</td>\n",
       "      <td>S</td>\n",
       "      <td>NaN</td>\n",
       "    </tr>\n",
       "    <tr>\n",
       "      <th>15</th>\n",
       "      <td>1</td>\n",
       "      <td>2</td>\n",
       "      <td>male</td>\n",
       "      <td>31.0</td>\n",
       "      <td>0</td>\n",
       "      <td>0</td>\n",
       "      <td>13.0000</td>\n",
       "      <td>S</td>\n",
       "      <td>NaN</td>\n",
       "    </tr>\n",
       "    <tr>\n",
       "      <th>24</th>\n",
       "      <td>0</td>\n",
       "      <td>3</td>\n",
       "      <td>male</td>\n",
       "      <td>31.0</td>\n",
       "      <td>0</td>\n",
       "      <td>0</td>\n",
       "      <td>7.2250</td>\n",
       "      <td>C</td>\n",
       "      <td>NaN</td>\n",
       "    </tr>\n",
       "    <tr>\n",
       "      <th>26</th>\n",
       "      <td>1</td>\n",
       "      <td>3</td>\n",
       "      <td>female</td>\n",
       "      <td>31.0</td>\n",
       "      <td>0</td>\n",
       "      <td>0</td>\n",
       "      <td>7.8792</td>\n",
       "      <td>Q</td>\n",
       "      <td>NaN</td>\n",
       "    </tr>\n",
       "    <tr>\n",
       "      <th>27</th>\n",
       "      <td>0</td>\n",
       "      <td>3</td>\n",
       "      <td>male</td>\n",
       "      <td>31.0</td>\n",
       "      <td>0</td>\n",
       "      <td>0</td>\n",
       "      <td>7.8958</td>\n",
       "      <td>S</td>\n",
       "      <td>NaN</td>\n",
       "    </tr>\n",
       "  </tbody>\n",
       "</table>\n",
       "</div>"
      ],
      "text/plain": [
       "   Alive  Class  Gender   Age  Siblings  Parch    Price Emb Deck\n",
       "2      0      3    male  35.0         0      0   8.0500   S  NaN\n",
       "15     1      2    male  31.0         0      0  13.0000   S  NaN\n",
       "24     0      3    male  31.0         0      0   7.2250   C  NaN\n",
       "26     1      3  female  31.0         0      0   7.8792   Q  NaN\n",
       "27     0      3    male  31.0         0      0   7.8958   S  NaN"
      ]
     },
     "execution_count": 82,
     "metadata": {},
     "output_type": "execute_result"
    }
   ],
   "source": [
    "t.loc[t.duplicated(keep=False)].head()# Here all duplicated are present\n",
    "#difficault to identif duplicated since  no key value present such Name or Idno."
   ]
  },
  {
   "cell_type": "code",
   "execution_count": 83,
   "metadata": {
    "collapsed": false
   },
   "outputs": [
    {
     "data": {
      "text/html": [
       "<div>\n",
       "<style scoped>\n",
       "    .dataframe tbody tr th:only-of-type {\n",
       "        vertical-align: middle;\n",
       "    }\n",
       "\n",
       "    .dataframe tbody tr th {\n",
       "        vertical-align: top;\n",
       "    }\n",
       "\n",
       "    .dataframe thead th {\n",
       "        text-align: right;\n",
       "    }\n",
       "</style>\n",
       "<table border=\"1\" class=\"dataframe\">\n",
       "  <thead>\n",
       "    <tr style=\"text-align: right;\">\n",
       "      <th></th>\n",
       "      <th>Year</th>\n",
       "      <th>City</th>\n",
       "      <th>Sport</th>\n",
       "      <th>Discipline</th>\n",
       "      <th>Athlete_name</th>\n",
       "      <th>Country</th>\n",
       "      <th>Gender</th>\n",
       "      <th>Event</th>\n",
       "      <th>Medal</th>\n",
       "    </tr>\n",
       "  </thead>\n",
       "  <tbody>\n",
       "    <tr>\n",
       "      <th>2068</th>\n",
       "      <td>1912</td>\n",
       "      <td>Stockholm</td>\n",
       "      <td>Athletics</td>\n",
       "      <td>Athletics</td>\n",
       "      <td>LELONG, CHARLES LOUIS</td>\n",
       "      <td>FRA</td>\n",
       "      <td>Men</td>\n",
       "      <td>4X400M Relay</td>\n",
       "      <td>Silver</td>\n",
       "    </tr>\n",
       "    <tr>\n",
       "      <th>2069</th>\n",
       "      <td>1912</td>\n",
       "      <td>Stockholm</td>\n",
       "      <td>Athletics</td>\n",
       "      <td>Athletics</td>\n",
       "      <td>LELONG, CHARLES LOUIS</td>\n",
       "      <td>FRA</td>\n",
       "      <td>Men</td>\n",
       "      <td>4X400M Relay</td>\n",
       "      <td>Silver</td>\n",
       "    </tr>\n",
       "    <tr>\n",
       "      <th>12252</th>\n",
       "      <td>1968</td>\n",
       "      <td>Mexico</td>\n",
       "      <td>Fencing</td>\n",
       "      <td>Fencing</td>\n",
       "      <td>KALMAR, JANOS</td>\n",
       "      <td>HUN</td>\n",
       "      <td>Men</td>\n",
       "      <td>Sabre Team</td>\n",
       "      <td>Bronze</td>\n",
       "    </tr>\n",
       "    <tr>\n",
       "      <th>12253</th>\n",
       "      <td>1968</td>\n",
       "      <td>Mexico</td>\n",
       "      <td>Fencing</td>\n",
       "      <td>Fencing</td>\n",
       "      <td>KALMAR, JANOS</td>\n",
       "      <td>HUN</td>\n",
       "      <td>Men</td>\n",
       "      <td>Sabre Team</td>\n",
       "      <td>Bronze</td>\n",
       "    </tr>\n",
       "    <tr>\n",
       "      <th>15595</th>\n",
       "      <td>1980</td>\n",
       "      <td>Moscow</td>\n",
       "      <td>Boxing</td>\n",
       "      <td>Boxing</td>\n",
       "      <td>MUSTAFOV, ISMAIL</td>\n",
       "      <td>BUL</td>\n",
       "      <td>Men</td>\n",
       "      <td>- 48KG (Light-Flyweight)</td>\n",
       "      <td>Bronze</td>\n",
       "    </tr>\n",
       "    <tr>\n",
       "      <th>15596</th>\n",
       "      <td>1980</td>\n",
       "      <td>Moscow</td>\n",
       "      <td>Boxing</td>\n",
       "      <td>Boxing</td>\n",
       "      <td>MUSTAFOV, ISMAIL</td>\n",
       "      <td>BUL</td>\n",
       "      <td>Men</td>\n",
       "      <td>- 48KG (Light-Flyweight)</td>\n",
       "      <td>Bronze</td>\n",
       "    </tr>\n",
       "    <tr>\n",
       "      <th>16101</th>\n",
       "      <td>1980</td>\n",
       "      <td>Moscow</td>\n",
       "      <td>Hockey</td>\n",
       "      <td>Hockey</td>\n",
       "      <td>SINGH, SINGH</td>\n",
       "      <td>IND</td>\n",
       "      <td>Men</td>\n",
       "      <td>Hockey</td>\n",
       "      <td>Gold</td>\n",
       "    </tr>\n",
       "    <tr>\n",
       "      <th>16102</th>\n",
       "      <td>1980</td>\n",
       "      <td>Moscow</td>\n",
       "      <td>Hockey</td>\n",
       "      <td>Hockey</td>\n",
       "      <td>SINGH, SINGH</td>\n",
       "      <td>IND</td>\n",
       "      <td>Men</td>\n",
       "      <td>Hockey</td>\n",
       "      <td>Gold</td>\n",
       "    </tr>\n",
       "    <tr>\n",
       "      <th>21832</th>\n",
       "      <td>1996</td>\n",
       "      <td>Atlanta</td>\n",
       "      <td>Baseball</td>\n",
       "      <td>Baseball</td>\n",
       "      <td>SCULL, ANTONIO</td>\n",
       "      <td>CUB</td>\n",
       "      <td>Men</td>\n",
       "      <td>Baseball</td>\n",
       "      <td>Gold</td>\n",
       "    </tr>\n",
       "    <tr>\n",
       "      <th>21833</th>\n",
       "      <td>1996</td>\n",
       "      <td>Atlanta</td>\n",
       "      <td>Baseball</td>\n",
       "      <td>Baseball</td>\n",
       "      <td>SCULL, ANTONIO</td>\n",
       "      <td>CUB</td>\n",
       "      <td>Men</td>\n",
       "      <td>Baseball</td>\n",
       "      <td>Gold</td>\n",
       "    </tr>\n",
       "    <tr>\n",
       "      <th>28677</th>\n",
       "      <td>2008</td>\n",
       "      <td>Beijing</td>\n",
       "      <td>Rowing</td>\n",
       "      <td>Rowing</td>\n",
       "      <td>VOLPENHEIN, BRYAN</td>\n",
       "      <td>USA</td>\n",
       "      <td>Men</td>\n",
       "      <td>Eight With Coxswain (8+)</td>\n",
       "      <td>Bronze</td>\n",
       "    </tr>\n",
       "    <tr>\n",
       "      <th>28678</th>\n",
       "      <td>2008</td>\n",
       "      <td>Beijing</td>\n",
       "      <td>Rowing</td>\n",
       "      <td>Rowing</td>\n",
       "      <td>VOLPENHEIN, BRYAN</td>\n",
       "      <td>USA</td>\n",
       "      <td>Men</td>\n",
       "      <td>Eight With Coxswain (8+)</td>\n",
       "      <td>Bronze</td>\n",
       "    </tr>\n",
       "    <tr>\n",
       "      <th>29784</th>\n",
       "      <td>2012</td>\n",
       "      <td>London</td>\n",
       "      <td>Badminton</td>\n",
       "      <td>Badminton</td>\n",
       "      <td>ZHAO, YUNLEI</td>\n",
       "      <td>CHN</td>\n",
       "      <td>Women</td>\n",
       "      <td>Doubles</td>\n",
       "      <td>Gold</td>\n",
       "    </tr>\n",
       "    <tr>\n",
       "      <th>29790</th>\n",
       "      <td>2012</td>\n",
       "      <td>London</td>\n",
       "      <td>Badminton</td>\n",
       "      <td>Badminton</td>\n",
       "      <td>ZHAO, YUNLEI</td>\n",
       "      <td>CHN</td>\n",
       "      <td>Women</td>\n",
       "      <td>Doubles</td>\n",
       "      <td>Gold</td>\n",
       "    </tr>\n",
       "  </tbody>\n",
       "</table>\n",
       "</div>"
      ],
      "text/plain": [
       "       Year       City      Sport Discipline             Athlete_name Country  \\\n",
       "2068   1912  Stockholm  Athletics  Athletics   LELONG, CHARLES LOUIS      FRA   \n",
       "2069   1912  Stockholm  Athletics  Athletics   LELONG, CHARLES LOUIS      FRA   \n",
       "12252  1968     Mexico    Fencing    Fencing           KALMAR, JANOS      HUN   \n",
       "12253  1968     Mexico    Fencing    Fencing           KALMAR, JANOS      HUN   \n",
       "15595  1980     Moscow     Boxing     Boxing        MUSTAFOV, ISMAIL      BUL   \n",
       "15596  1980     Moscow     Boxing     Boxing        MUSTAFOV, ISMAIL      BUL   \n",
       "16101  1980     Moscow     Hockey     Hockey            SINGH, SINGH      IND   \n",
       "16102  1980     Moscow     Hockey     Hockey            SINGH, SINGH      IND   \n",
       "21832  1996    Atlanta   Baseball   Baseball          SCULL, ANTONIO      CUB   \n",
       "21833  1996    Atlanta   Baseball   Baseball          SCULL, ANTONIO      CUB   \n",
       "28677  2008    Beijing     Rowing     Rowing       VOLPENHEIN, BRYAN      USA   \n",
       "28678  2008    Beijing     Rowing     Rowing       VOLPENHEIN, BRYAN      USA   \n",
       "29784  2012     London  Badminton  Badminton            ZHAO, YUNLEI      CHN   \n",
       "29790  2012     London  Badminton  Badminton            ZHAO, YUNLEI      CHN   \n",
       "\n",
       "      Gender                     Event   Medal  \n",
       "2068     Men              4X400M Relay  Silver  \n",
       "2069     Men              4X400M Relay  Silver  \n",
       "12252    Men                Sabre Team  Bronze  \n",
       "12253    Men                Sabre Team  Bronze  \n",
       "15595    Men  - 48KG (Light-Flyweight)  Bronze  \n",
       "15596    Men  - 48KG (Light-Flyweight)  Bronze  \n",
       "16101    Men                    Hockey    Gold  \n",
       "16102    Men                    Hockey    Gold  \n",
       "21832    Men                  Baseball    Gold  \n",
       "21833    Men                  Baseball    Gold  \n",
       "28677    Men  Eight With Coxswain (8+)  Bronze  \n",
       "28678    Men  Eight With Coxswain (8+)  Bronze  \n",
       "29784  Women                   Doubles    Gold  \n",
       "29790  Women                   Doubles    Gold  "
      ]
     },
     "execution_count": 83,
     "metadata": {},
     "output_type": "execute_result"
    }
   ],
   "source": []
  },
  {
   "cell_type": "code",
   "execution_count": 84,
   "metadata": {
    "collapsed": true
   },
   "outputs": [],
   "source": []
  },
  {
   "cell_type": "code",
   "execution_count": 85,
   "metadata": {
    "collapsed": false
   },
   "outputs": [
    {
     "name": "stdout",
     "output_type": "stream",
     "text": [
      "<class 'pandas.core.frame.DataFrame'>\n",
      "RangeIndex: 398 entries, 0 to 397\n",
      "Data columns (total 9 columns):\n",
      "mpg             398 non-null float64\n",
      "cylinders       398 non-null int64\n",
      "displacement    398 non-null float64\n",
      "horsepower      392 non-null float64\n",
      "weight          398 non-null int64\n",
      "acceleration    398 non-null float64\n",
      "model_year      398 non-null int64\n",
      "origin          398 non-null object\n",
      "name            398 non-null object\n",
      "dtypes: float64(4), int64(3), object(2)\n",
      "memory usage: 24.9+ KB\n"
     ]
    }
   ],
   "source": []
  },
  {
   "cell_type": "code",
   "execution_count": 86,
   "metadata": {
    "collapsed": false
   },
   "outputs": [
    {
     "data": {
      "text/plain": [
       "111"
      ]
     },
     "execution_count": 86,
     "metadata": {},
     "output_type": "execute_result"
    }
   ],
   "source": []
  },
  {
   "cell_type": "code",
   "execution_count": 87,
   "metadata": {
    "collapsed": false
   },
   "outputs": [],
   "source": []
  },
  {
   "cell_type": "code",
   "execution_count": 88,
   "metadata": {
    "collapsed": false
   },
   "outputs": [
    {
     "data": {
      "text/html": [
       "<div>\n",
       "<style scoped>\n",
       "    .dataframe tbody tr th:only-of-type {\n",
       "        vertical-align: middle;\n",
       "    }\n",
       "\n",
       "    .dataframe tbody tr th {\n",
       "        vertical-align: top;\n",
       "    }\n",
       "\n",
       "    .dataframe thead th {\n",
       "        text-align: right;\n",
       "    }\n",
       "</style>\n",
       "<table border=\"1\" class=\"dataframe\">\n",
       "  <thead>\n",
       "    <tr style=\"text-align: right;\">\n",
       "      <th></th>\n",
       "      <th>Year</th>\n",
       "      <th>City</th>\n",
       "      <th>Sport</th>\n",
       "      <th>Discipline</th>\n",
       "      <th>Athlete Name</th>\n",
       "      <th>Country</th>\n",
       "      <th>Gender</th>\n",
       "      <th>Event</th>\n",
       "      <th>Medal</th>\n",
       "    </tr>\n",
       "  </thead>\n",
       "  <tbody>\n",
       "    <tr>\n",
       "      <th>2068</th>\n",
       "      <td>1912</td>\n",
       "      <td>Stockholm</td>\n",
       "      <td>Athletics</td>\n",
       "      <td>Athletics</td>\n",
       "      <td>LELONG, Charles Louis</td>\n",
       "      <td>FRA</td>\n",
       "      <td>Men</td>\n",
       "      <td>4X400M Relay</td>\n",
       "      <td>Silver</td>\n",
       "    </tr>\n",
       "    <tr>\n",
       "      <th>2069</th>\n",
       "      <td>1912</td>\n",
       "      <td>Stockholm</td>\n",
       "      <td>Athletics</td>\n",
       "      <td>Athletics</td>\n",
       "      <td>LELONG, Charles Louis</td>\n",
       "      <td>FRA</td>\n",
       "      <td>Men</td>\n",
       "      <td>4X400M Relay</td>\n",
       "      <td>Silver</td>\n",
       "    </tr>\n",
       "    <tr>\n",
       "      <th>12252</th>\n",
       "      <td>1968</td>\n",
       "      <td>Mexico</td>\n",
       "      <td>Fencing</td>\n",
       "      <td>Fencing</td>\n",
       "      <td>KALMAR, Janos</td>\n",
       "      <td>HUN</td>\n",
       "      <td>Men</td>\n",
       "      <td>Sabre Team</td>\n",
       "      <td>Bronze</td>\n",
       "    </tr>\n",
       "    <tr>\n",
       "      <th>12253</th>\n",
       "      <td>1968</td>\n",
       "      <td>Mexico</td>\n",
       "      <td>Fencing</td>\n",
       "      <td>Fencing</td>\n",
       "      <td>KALMAR, Janos</td>\n",
       "      <td>HUN</td>\n",
       "      <td>Men</td>\n",
       "      <td>Sabre Team</td>\n",
       "      <td>Bronze</td>\n",
       "    </tr>\n",
       "    <tr>\n",
       "      <th>15595</th>\n",
       "      <td>1980</td>\n",
       "      <td>Moscow</td>\n",
       "      <td>Boxing</td>\n",
       "      <td>Boxing</td>\n",
       "      <td>MUSTAFOV, Ismail</td>\n",
       "      <td>BUL</td>\n",
       "      <td>Men</td>\n",
       "      <td>- 48KG (Light-Flyweight)</td>\n",
       "      <td>Bronze</td>\n",
       "    </tr>\n",
       "    <tr>\n",
       "      <th>15596</th>\n",
       "      <td>1980</td>\n",
       "      <td>Moscow</td>\n",
       "      <td>Boxing</td>\n",
       "      <td>Boxing</td>\n",
       "      <td>MUSTAFOV, Ismail</td>\n",
       "      <td>BUL</td>\n",
       "      <td>Men</td>\n",
       "      <td>- 48KG (Light-Flyweight)</td>\n",
       "      <td>Bronze</td>\n",
       "    </tr>\n",
       "    <tr>\n",
       "      <th>16101</th>\n",
       "      <td>1980</td>\n",
       "      <td>Moscow</td>\n",
       "      <td>Hockey</td>\n",
       "      <td>Hockey</td>\n",
       "      <td>SINGH, Singh</td>\n",
       "      <td>IND</td>\n",
       "      <td>Men</td>\n",
       "      <td>Hockey</td>\n",
       "      <td>Gold</td>\n",
       "    </tr>\n",
       "    <tr>\n",
       "      <th>16102</th>\n",
       "      <td>1980</td>\n",
       "      <td>Moscow</td>\n",
       "      <td>Hockey</td>\n",
       "      <td>Hockey</td>\n",
       "      <td>SINGH, Singh</td>\n",
       "      <td>IND</td>\n",
       "      <td>Men</td>\n",
       "      <td>Hockey</td>\n",
       "      <td>Gold</td>\n",
       "    </tr>\n",
       "    <tr>\n",
       "      <th>21832</th>\n",
       "      <td>1996</td>\n",
       "      <td>Atlanta</td>\n",
       "      <td>Baseball</td>\n",
       "      <td>Baseball</td>\n",
       "      <td>SCULL, Antonio</td>\n",
       "      <td>CUB</td>\n",
       "      <td>Men</td>\n",
       "      <td>Baseball</td>\n",
       "      <td>Gold</td>\n",
       "    </tr>\n",
       "    <tr>\n",
       "      <th>21833</th>\n",
       "      <td>1996</td>\n",
       "      <td>Atlanta</td>\n",
       "      <td>Baseball</td>\n",
       "      <td>Baseball</td>\n",
       "      <td>SCULL, Antonio</td>\n",
       "      <td>CUB</td>\n",
       "      <td>Men</td>\n",
       "      <td>Baseball</td>\n",
       "      <td>Gold</td>\n",
       "    </tr>\n",
       "    <tr>\n",
       "      <th>28677</th>\n",
       "      <td>2008</td>\n",
       "      <td>Beijing</td>\n",
       "      <td>Rowing</td>\n",
       "      <td>Rowing</td>\n",
       "      <td>VOLPENHEIN, Bryan</td>\n",
       "      <td>USA</td>\n",
       "      <td>Men</td>\n",
       "      <td>Eight With Coxswain (8+)</td>\n",
       "      <td>Bronze</td>\n",
       "    </tr>\n",
       "    <tr>\n",
       "      <th>28678</th>\n",
       "      <td>2008</td>\n",
       "      <td>Beijing</td>\n",
       "      <td>Rowing</td>\n",
       "      <td>Rowing</td>\n",
       "      <td>VOLPENHEIN, Bryan</td>\n",
       "      <td>USA</td>\n",
       "      <td>Men</td>\n",
       "      <td>Eight With Coxswain (8+)</td>\n",
       "      <td>Bronze</td>\n",
       "    </tr>\n",
       "    <tr>\n",
       "      <th>29784</th>\n",
       "      <td>2012</td>\n",
       "      <td>London</td>\n",
       "      <td>Badminton</td>\n",
       "      <td>Badminton</td>\n",
       "      <td>ZHAO, Yunlei</td>\n",
       "      <td>CHN</td>\n",
       "      <td>Women</td>\n",
       "      <td>Doubles</td>\n",
       "      <td>Gold</td>\n",
       "    </tr>\n",
       "    <tr>\n",
       "      <th>29790</th>\n",
       "      <td>2012</td>\n",
       "      <td>London</td>\n",
       "      <td>Badminton</td>\n",
       "      <td>Badminton</td>\n",
       "      <td>ZHAO, Yunlei</td>\n",
       "      <td>CHN</td>\n",
       "      <td>Women</td>\n",
       "      <td>Doubles</td>\n",
       "      <td>Gold</td>\n",
       "    </tr>\n",
       "  </tbody>\n",
       "</table>\n",
       "</div>"
      ],
      "text/plain": [
       "       Year       City      Sport Discipline             Athlete Name Country  \\\n",
       "2068   1912  Stockholm  Athletics  Athletics   LELONG, Charles Louis      FRA   \n",
       "2069   1912  Stockholm  Athletics  Athletics   LELONG, Charles Louis      FRA   \n",
       "12252  1968     Mexico    Fencing    Fencing           KALMAR, Janos      HUN   \n",
       "12253  1968     Mexico    Fencing    Fencing           KALMAR, Janos      HUN   \n",
       "15595  1980     Moscow     Boxing     Boxing        MUSTAFOV, Ismail      BUL   \n",
       "15596  1980     Moscow     Boxing     Boxing        MUSTAFOV, Ismail      BUL   \n",
       "16101  1980     Moscow     Hockey     Hockey            SINGH, Singh      IND   \n",
       "16102  1980     Moscow     Hockey     Hockey            SINGH, Singh      IND   \n",
       "21832  1996    Atlanta   Baseball   Baseball          SCULL, Antonio      CUB   \n",
       "21833  1996    Atlanta   Baseball   Baseball          SCULL, Antonio      CUB   \n",
       "28677  2008    Beijing     Rowing     Rowing       VOLPENHEIN, Bryan      USA   \n",
       "28678  2008    Beijing     Rowing     Rowing       VOLPENHEIN, Bryan      USA   \n",
       "29784  2012     London  Badminton  Badminton            ZHAO, Yunlei      CHN   \n",
       "29790  2012     London  Badminton  Badminton            ZHAO, Yunlei      CHN   \n",
       "\n",
       "      Gender                     Event   Medal  \n",
       "2068     Men              4X400M Relay  Silver  \n",
       "2069     Men              4X400M Relay  Silver  \n",
       "12252    Men                Sabre Team  Bronze  \n",
       "12253    Men                Sabre Team  Bronze  \n",
       "15595    Men  - 48KG (Light-Flyweight)  Bronze  \n",
       "15596    Men  - 48KG (Light-Flyweight)  Bronze  \n",
       "16101    Men                    Hockey    Gold  \n",
       "16102    Men                    Hockey    Gold  \n",
       "21832    Men                  Baseball    Gold  \n",
       "21833    Men                  Baseball    Gold  \n",
       "28677    Men  Eight With Coxswain (8+)  Bronze  \n",
       "28678    Men  Eight With Coxswain (8+)  Bronze  \n",
       "29784  Women                   Doubles    Gold  \n",
       "29790  Women                   Doubles    Gold  "
      ]
     },
     "execution_count": 88,
     "metadata": {},
     "output_type": "execute_result"
    }
   ],
   "source": []
  },
  {
   "cell_type": "code",
   "execution_count": 95,
   "metadata": {
    "collapsed": true
   },
   "outputs": [],
   "source": []
  },
  {
   "cell_type": "code",
   "execution_count": 96,
   "metadata": {
    "collapsed": false
   },
   "outputs": [
    {
     "data": {
      "text/html": [
       "<div>\n",
       "<style scoped>\n",
       "    .dataframe tbody tr th:only-of-type {\n",
       "        vertical-align: middle;\n",
       "    }\n",
       "\n",
       "    .dataframe tbody tr th {\n",
       "        vertical-align: top;\n",
       "    }\n",
       "\n",
       "    .dataframe thead th {\n",
       "        text-align: right;\n",
       "    }\n",
       "</style>\n",
       "<table border=\"1\" class=\"dataframe\">\n",
       "  <thead>\n",
       "    <tr style=\"text-align: right;\">\n",
       "      <th></th>\n",
       "      <th>Year</th>\n",
       "      <th>City</th>\n",
       "      <th>Sport</th>\n",
       "      <th>Discipline</th>\n",
       "      <th>Athlete Name</th>\n",
       "      <th>Country</th>\n",
       "      <th>Gender</th>\n",
       "      <th>Event</th>\n",
       "      <th>Medal</th>\n",
       "    </tr>\n",
       "  </thead>\n",
       "  <tbody>\n",
       "    <tr>\n",
       "      <th>0</th>\n",
       "      <td>1896</td>\n",
       "      <td>Athens</td>\n",
       "      <td>Aquatics</td>\n",
       "      <td>Swimming</td>\n",
       "      <td>HAJOS, Alfred</td>\n",
       "      <td>HUN</td>\n",
       "      <td>Men</td>\n",
       "      <td>100M Freestyle</td>\n",
       "      <td>Gold Medal</td>\n",
       "    </tr>\n",
       "    <tr>\n",
       "      <th>1</th>\n",
       "      <td>1896</td>\n",
       "      <td>Athens</td>\n",
       "      <td>Aquatics</td>\n",
       "      <td>Swimming</td>\n",
       "      <td>HERSCHMANN, Otto</td>\n",
       "      <td>AUT</td>\n",
       "      <td>Men</td>\n",
       "      <td>100M Freestyle</td>\n",
       "      <td>Silver</td>\n",
       "    </tr>\n",
       "    <tr>\n",
       "      <th>2</th>\n",
       "      <td>1896</td>\n",
       "      <td>Athens</td>\n",
       "      <td>Aquatics</td>\n",
       "      <td>Swimming</td>\n",
       "      <td>DRIVAS, Dimitrios</td>\n",
       "      <td>GRE</td>\n",
       "      <td>Men</td>\n",
       "      <td>100M Freestyle For Sailors</td>\n",
       "      <td>Bronze</td>\n",
       "    </tr>\n",
       "    <tr>\n",
       "      <th>3</th>\n",
       "      <td>1896</td>\n",
       "      <td>Athens</td>\n",
       "      <td>Aquatics</td>\n",
       "      <td>Swimming</td>\n",
       "      <td>Malokinis, Ioannis</td>\n",
       "      <td>GRE</td>\n",
       "      <td>Men</td>\n",
       "      <td>100M Freestyle For Sailors</td>\n",
       "      <td>Gold Medal</td>\n",
       "    </tr>\n",
       "    <tr>\n",
       "      <th>4</th>\n",
       "      <td>1896</td>\n",
       "      <td>Athens</td>\n",
       "      <td>Aquatics</td>\n",
       "      <td>Swimming</td>\n",
       "      <td>Chasapis, Spiridon</td>\n",
       "      <td>GRE</td>\n",
       "      <td>Men</td>\n",
       "      <td>100M Freestyle For Sailors</td>\n",
       "      <td>Silver</td>\n",
       "    </tr>\n",
       "    <tr>\n",
       "      <th>5</th>\n",
       "      <td>1896</td>\n",
       "      <td>Athens</td>\n",
       "      <td>Aquatics</td>\n",
       "      <td>Swimming</td>\n",
       "      <td>Chorophas, Efstathios</td>\n",
       "      <td>GRE</td>\n",
       "      <td>Men</td>\n",
       "      <td>1200M Freestyle</td>\n",
       "      <td>Bronze</td>\n",
       "    </tr>\n",
       "    <tr>\n",
       "      <th>6</th>\n",
       "      <td>1896</td>\n",
       "      <td>Athens</td>\n",
       "      <td>Aquatics</td>\n",
       "      <td>Swimming</td>\n",
       "      <td>Hajos, Alfred</td>\n",
       "      <td>HUN</td>\n",
       "      <td>Men</td>\n",
       "      <td>1200M Freestyle</td>\n",
       "      <td>Gold Medal</td>\n",
       "    </tr>\n",
       "    <tr>\n",
       "      <th>7</th>\n",
       "      <td>1896</td>\n",
       "      <td>Athens</td>\n",
       "      <td>Aquatics</td>\n",
       "      <td>Swimming</td>\n",
       "      <td>Andreou, Joannis</td>\n",
       "      <td>GRE</td>\n",
       "      <td>Men</td>\n",
       "      <td>1200M Freestyle</td>\n",
       "      <td>Silver</td>\n",
       "    </tr>\n",
       "    <tr>\n",
       "      <th>8</th>\n",
       "      <td>1896</td>\n",
       "      <td>Athens</td>\n",
       "      <td>Aquatics</td>\n",
       "      <td>Swimming</td>\n",
       "      <td>Chorophas, Efstathios</td>\n",
       "      <td>GRE</td>\n",
       "      <td>Men</td>\n",
       "      <td>400M Freestyle</td>\n",
       "      <td>Bronze</td>\n",
       "    </tr>\n",
       "    <tr>\n",
       "      <th>9</th>\n",
       "      <td>1896</td>\n",
       "      <td>Athens</td>\n",
       "      <td>Aquatics</td>\n",
       "      <td>Swimming</td>\n",
       "      <td>Neumann, Paul</td>\n",
       "      <td>AUT</td>\n",
       "      <td>Men</td>\n",
       "      <td>400M Freestyle</td>\n",
       "      <td>Gold Medal</td>\n",
       "    </tr>\n",
       "    <tr>\n",
       "      <th>10</th>\n",
       "      <td>1896</td>\n",
       "      <td>Athens</td>\n",
       "      <td>Aquatics</td>\n",
       "      <td>Swimming</td>\n",
       "      <td>Pepanos, Antonios</td>\n",
       "      <td>GRE</td>\n",
       "      <td>Men</td>\n",
       "      <td>400M Freestyle</td>\n",
       "      <td>Silver</td>\n",
       "    </tr>\n",
       "    <tr>\n",
       "      <th>11</th>\n",
       "      <td>1896</td>\n",
       "      <td>Athens</td>\n",
       "      <td>Athletics</td>\n",
       "      <td>Athletics</td>\n",
       "      <td>Lane, Francis</td>\n",
       "      <td>USA</td>\n",
       "      <td>Men</td>\n",
       "      <td>100M</td>\n",
       "      <td>Bronze</td>\n",
       "    </tr>\n",
       "    <tr>\n",
       "      <th>12</th>\n",
       "      <td>1896</td>\n",
       "      <td>Athens</td>\n",
       "      <td>Athletics</td>\n",
       "      <td>Athletics</td>\n",
       "      <td>Szokolyi, Alajos</td>\n",
       "      <td>HUN</td>\n",
       "      <td>Men</td>\n",
       "      <td>100M</td>\n",
       "      <td>Bronze</td>\n",
       "    </tr>\n",
       "    <tr>\n",
       "      <th>13</th>\n",
       "      <td>1896</td>\n",
       "      <td>Athens</td>\n",
       "      <td>Athletics</td>\n",
       "      <td>Athletics</td>\n",
       "      <td>BURKE, Thomas</td>\n",
       "      <td>USA</td>\n",
       "      <td>Men</td>\n",
       "      <td>100M</td>\n",
       "      <td>Gold</td>\n",
       "    </tr>\n",
       "    <tr>\n",
       "      <th>14</th>\n",
       "      <td>1896</td>\n",
       "      <td>Athens</td>\n",
       "      <td>Athletics</td>\n",
       "      <td>Athletics</td>\n",
       "      <td>HOFMANN, Fritz</td>\n",
       "      <td>GER</td>\n",
       "      <td>Men</td>\n",
       "      <td>100M</td>\n",
       "      <td>Silver</td>\n",
       "    </tr>\n",
       "    <tr>\n",
       "      <th>15</th>\n",
       "      <td>1896</td>\n",
       "      <td>Athens</td>\n",
       "      <td>Athletics</td>\n",
       "      <td>Athletics</td>\n",
       "      <td>CURTIS, Thomas</td>\n",
       "      <td>USA</td>\n",
       "      <td>Men</td>\n",
       "      <td>110M Hurdles</td>\n",
       "      <td>Gold</td>\n",
       "    </tr>\n",
       "    <tr>\n",
       "      <th>16</th>\n",
       "      <td>1896</td>\n",
       "      <td>Athens</td>\n",
       "      <td>Athletics</td>\n",
       "      <td>Athletics</td>\n",
       "      <td>GOULDING, Grantley</td>\n",
       "      <td>GBR</td>\n",
       "      <td>Men</td>\n",
       "      <td>110M Hurdles</td>\n",
       "      <td>Silver</td>\n",
       "    </tr>\n",
       "    <tr>\n",
       "      <th>17</th>\n",
       "      <td>1896</td>\n",
       "      <td>Athens</td>\n",
       "      <td>Athletics</td>\n",
       "      <td>Athletics</td>\n",
       "      <td>LERMUSIAUX, Albin</td>\n",
       "      <td>FRA</td>\n",
       "      <td>Men</td>\n",
       "      <td>1500M</td>\n",
       "      <td>Bronze</td>\n",
       "    </tr>\n",
       "    <tr>\n",
       "      <th>18</th>\n",
       "      <td>1896</td>\n",
       "      <td>Athens</td>\n",
       "      <td>Athletics</td>\n",
       "      <td>Athletics</td>\n",
       "      <td>FLACK, Edwin</td>\n",
       "      <td>AUS</td>\n",
       "      <td>Men</td>\n",
       "      <td>1500M</td>\n",
       "      <td>Gold</td>\n",
       "    </tr>\n",
       "    <tr>\n",
       "      <th>19</th>\n",
       "      <td>1896</td>\n",
       "      <td>Athens</td>\n",
       "      <td>Athletics</td>\n",
       "      <td>Athletics</td>\n",
       "      <td>BLAKE, Arthur</td>\n",
       "      <td>USA</td>\n",
       "      <td>Men</td>\n",
       "      <td>1500M</td>\n",
       "      <td>Silver</td>\n",
       "    </tr>\n",
       "    <tr>\n",
       "      <th>20</th>\n",
       "      <td>1896</td>\n",
       "      <td>Athens</td>\n",
       "      <td>Athletics</td>\n",
       "      <td>Athletics</td>\n",
       "      <td>GMELIN, Charles</td>\n",
       "      <td>GBR</td>\n",
       "      <td>Men</td>\n",
       "      <td>400M</td>\n",
       "      <td>Bronze</td>\n",
       "    </tr>\n",
       "    <tr>\n",
       "      <th>21</th>\n",
       "      <td>1896</td>\n",
       "      <td>Athens</td>\n",
       "      <td>Athletics</td>\n",
       "      <td>Athletics</td>\n",
       "      <td>BURKE, Thomas</td>\n",
       "      <td>USA</td>\n",
       "      <td>Men</td>\n",
       "      <td>400M</td>\n",
       "      <td>Gold</td>\n",
       "    </tr>\n",
       "    <tr>\n",
       "      <th>22</th>\n",
       "      <td>1896</td>\n",
       "      <td>Athens</td>\n",
       "      <td>Athletics</td>\n",
       "      <td>Athletics</td>\n",
       "      <td>JAMISON, Herbert</td>\n",
       "      <td>USA</td>\n",
       "      <td>Men</td>\n",
       "      <td>400M</td>\n",
       "      <td>Silver</td>\n",
       "    </tr>\n",
       "    <tr>\n",
       "      <th>23</th>\n",
       "      <td>1896</td>\n",
       "      <td>Athens</td>\n",
       "      <td>Athletics</td>\n",
       "      <td>Athletics</td>\n",
       "      <td>GOLEMIS, Dimitrios</td>\n",
       "      <td>GRE</td>\n",
       "      <td>Men</td>\n",
       "      <td>800M</td>\n",
       "      <td>Bronze</td>\n",
       "    </tr>\n",
       "    <tr>\n",
       "      <th>24</th>\n",
       "      <td>1896</td>\n",
       "      <td>Athens</td>\n",
       "      <td>Athletics</td>\n",
       "      <td>Athletics</td>\n",
       "      <td>FLACK, Edwin</td>\n",
       "      <td>AUS</td>\n",
       "      <td>Men</td>\n",
       "      <td>800M</td>\n",
       "      <td>Gold</td>\n",
       "    </tr>\n",
       "    <tr>\n",
       "      <th>25</th>\n",
       "      <td>1896</td>\n",
       "      <td>Athens</td>\n",
       "      <td>Athletics</td>\n",
       "      <td>Athletics</td>\n",
       "      <td>DANI, Nandor</td>\n",
       "      <td>HUN</td>\n",
       "      <td>Men</td>\n",
       "      <td>800M</td>\n",
       "      <td>Silver</td>\n",
       "    </tr>\n",
       "    <tr>\n",
       "      <th>26</th>\n",
       "      <td>1896</td>\n",
       "      <td>Athens</td>\n",
       "      <td>Athletics</td>\n",
       "      <td>Athletics</td>\n",
       "      <td>VERSIS, Sotirios</td>\n",
       "      <td>GRE</td>\n",
       "      <td>Men</td>\n",
       "      <td>Discus Throw</td>\n",
       "      <td>Bronze</td>\n",
       "    </tr>\n",
       "    <tr>\n",
       "      <th>27</th>\n",
       "      <td>1896</td>\n",
       "      <td>Athens</td>\n",
       "      <td>Athletics</td>\n",
       "      <td>Athletics</td>\n",
       "      <td>GARRETT, Robert</td>\n",
       "      <td>USA</td>\n",
       "      <td>Men</td>\n",
       "      <td>Discus Throw</td>\n",
       "      <td>Gold</td>\n",
       "    </tr>\n",
       "    <tr>\n",
       "      <th>28</th>\n",
       "      <td>1896</td>\n",
       "      <td>Athens</td>\n",
       "      <td>Athletics</td>\n",
       "      <td>Athletics</td>\n",
       "      <td>PARASKEVOPOULOS, Panagiotis</td>\n",
       "      <td>GRE</td>\n",
       "      <td>Men</td>\n",
       "      <td>Discus Throw</td>\n",
       "      <td>Silver</td>\n",
       "    </tr>\n",
       "    <tr>\n",
       "      <th>29</th>\n",
       "      <td>1896</td>\n",
       "      <td>Athens</td>\n",
       "      <td>Athletics</td>\n",
       "      <td>Athletics</td>\n",
       "      <td>CLARK, Ellery</td>\n",
       "      <td>USA</td>\n",
       "      <td>Men</td>\n",
       "      <td>High Jump</td>\n",
       "      <td>Gold</td>\n",
       "    </tr>\n",
       "    <tr>\n",
       "      <th>...</th>\n",
       "      <td>...</td>\n",
       "      <td>...</td>\n",
       "      <td>...</td>\n",
       "      <td>...</td>\n",
       "      <td>...</td>\n",
       "      <td>...</td>\n",
       "      <td>...</td>\n",
       "      <td>...</td>\n",
       "      <td>...</td>\n",
       "    </tr>\n",
       "    <tr>\n",
       "      <th>31140</th>\n",
       "      <td>2012</td>\n",
       "      <td>London</td>\n",
       "      <td>Wrestling</td>\n",
       "      <td>Wrestling Freestyle</td>\n",
       "      <td>GAZYUMOV, Khetag</td>\n",
       "      <td>AZE</td>\n",
       "      <td>Men</td>\n",
       "      <td>Wf 96 KG</td>\n",
       "      <td>Bronze</td>\n",
       "    </tr>\n",
       "    <tr>\n",
       "      <th>31141</th>\n",
       "      <td>2012</td>\n",
       "      <td>London</td>\n",
       "      <td>Wrestling</td>\n",
       "      <td>Wrestling Freestyle</td>\n",
       "      <td>GOGSHELIDZE, George</td>\n",
       "      <td>GEO</td>\n",
       "      <td>Men</td>\n",
       "      <td>Wf 96 KG</td>\n",
       "      <td>Bronze</td>\n",
       "    </tr>\n",
       "    <tr>\n",
       "      <th>31142</th>\n",
       "      <td>2012</td>\n",
       "      <td>London</td>\n",
       "      <td>Wrestling</td>\n",
       "      <td>Wrestling Freestyle</td>\n",
       "      <td>LOPEZ NUNEZ, Mijain</td>\n",
       "      <td>CUB</td>\n",
       "      <td>Men</td>\n",
       "      <td>Wg 120 KG</td>\n",
       "      <td>Gold</td>\n",
       "    </tr>\n",
       "    <tr>\n",
       "      <th>31143</th>\n",
       "      <td>2012</td>\n",
       "      <td>London</td>\n",
       "      <td>Wrestling</td>\n",
       "      <td>Wrestling Freestyle</td>\n",
       "      <td>NABI, Heiki</td>\n",
       "      <td>EST</td>\n",
       "      <td>Men</td>\n",
       "      <td>Wg 120 KG</td>\n",
       "      <td>Silver</td>\n",
       "    </tr>\n",
       "    <tr>\n",
       "      <th>31144</th>\n",
       "      <td>2012</td>\n",
       "      <td>London</td>\n",
       "      <td>Wrestling</td>\n",
       "      <td>Wrestling Freestyle</td>\n",
       "      <td>EUREN, Johan</td>\n",
       "      <td>SWE</td>\n",
       "      <td>Men</td>\n",
       "      <td>Wg 120 KG</td>\n",
       "      <td>Bronze</td>\n",
       "    </tr>\n",
       "    <tr>\n",
       "      <th>31145</th>\n",
       "      <td>2012</td>\n",
       "      <td>London</td>\n",
       "      <td>Wrestling</td>\n",
       "      <td>Wrestling Freestyle</td>\n",
       "      <td>KAYAALP, Riza</td>\n",
       "      <td>TUR</td>\n",
       "      <td>Men</td>\n",
       "      <td>Wg 120 KG</td>\n",
       "      <td>Bronze</td>\n",
       "    </tr>\n",
       "    <tr>\n",
       "      <th>31146</th>\n",
       "      <td>2012</td>\n",
       "      <td>London</td>\n",
       "      <td>Wrestling</td>\n",
       "      <td>Wrestling Freestyle</td>\n",
       "      <td>SORYAN REIHANPOUR, Hamid Mohammad</td>\n",
       "      <td>IRI</td>\n",
       "      <td>Men</td>\n",
       "      <td>Wg 55 KG</td>\n",
       "      <td>Gold</td>\n",
       "    </tr>\n",
       "    <tr>\n",
       "      <th>31147</th>\n",
       "      <td>2012</td>\n",
       "      <td>London</td>\n",
       "      <td>Wrestling</td>\n",
       "      <td>Wrestling Freestyle</td>\n",
       "      <td>BAYRAMOV, Rovshan</td>\n",
       "      <td>AZE</td>\n",
       "      <td>Men</td>\n",
       "      <td>Wg 55 KG</td>\n",
       "      <td>Silver</td>\n",
       "    </tr>\n",
       "    <tr>\n",
       "      <th>31148</th>\n",
       "      <td>2012</td>\n",
       "      <td>London</td>\n",
       "      <td>Wrestling</td>\n",
       "      <td>Wrestling Freestyle</td>\n",
       "      <td>MODOS, Peter</td>\n",
       "      <td>HUN</td>\n",
       "      <td>Men</td>\n",
       "      <td>Wg 55 KG</td>\n",
       "      <td>Bronze</td>\n",
       "    </tr>\n",
       "    <tr>\n",
       "      <th>31149</th>\n",
       "      <td>2012</td>\n",
       "      <td>London</td>\n",
       "      <td>Wrestling</td>\n",
       "      <td>Wrestling Freestyle</td>\n",
       "      <td>SEMENOV, Mingiyan</td>\n",
       "      <td>RUS</td>\n",
       "      <td>Men</td>\n",
       "      <td>Wg 55 KG</td>\n",
       "      <td>Bronze</td>\n",
       "    </tr>\n",
       "    <tr>\n",
       "      <th>31150</th>\n",
       "      <td>2012</td>\n",
       "      <td>London</td>\n",
       "      <td>Wrestling</td>\n",
       "      <td>Wrestling Freestyle</td>\n",
       "      <td>NOROOZI, Omid Haji</td>\n",
       "      <td>IRI</td>\n",
       "      <td>Men</td>\n",
       "      <td>Wg 60 KG</td>\n",
       "      <td>Gold</td>\n",
       "    </tr>\n",
       "    <tr>\n",
       "      <th>31151</th>\n",
       "      <td>2012</td>\n",
       "      <td>London</td>\n",
       "      <td>Wrestling</td>\n",
       "      <td>Wrestling Freestyle</td>\n",
       "      <td>LASHKHI, Revaz</td>\n",
       "      <td>GEO</td>\n",
       "      <td>Men</td>\n",
       "      <td>Wg 60 KG</td>\n",
       "      <td>Silver</td>\n",
       "    </tr>\n",
       "    <tr>\n",
       "      <th>31152</th>\n",
       "      <td>2012</td>\n",
       "      <td>London</td>\n",
       "      <td>Wrestling</td>\n",
       "      <td>Wrestling Freestyle</td>\n",
       "      <td>KURAMAGOMEDOV, Zaur</td>\n",
       "      <td>RUS</td>\n",
       "      <td>Men</td>\n",
       "      <td>Wg 60 KG</td>\n",
       "      <td>Bronze</td>\n",
       "    </tr>\n",
       "    <tr>\n",
       "      <th>31153</th>\n",
       "      <td>2012</td>\n",
       "      <td>London</td>\n",
       "      <td>Wrestling</td>\n",
       "      <td>Wrestling Freestyle</td>\n",
       "      <td>MATSUMOTO, Ryutaro</td>\n",
       "      <td>JPN</td>\n",
       "      <td>Men</td>\n",
       "      <td>Wg 60 KG</td>\n",
       "      <td>Bronze</td>\n",
       "    </tr>\n",
       "    <tr>\n",
       "      <th>31154</th>\n",
       "      <td>2012</td>\n",
       "      <td>London</td>\n",
       "      <td>Wrestling</td>\n",
       "      <td>Wrestling Freestyle</td>\n",
       "      <td>KIM, Hyeonwoo</td>\n",
       "      <td>KOR</td>\n",
       "      <td>Men</td>\n",
       "      <td>Wg 66 KG</td>\n",
       "      <td>Gold</td>\n",
       "    </tr>\n",
       "    <tr>\n",
       "      <th>31155</th>\n",
       "      <td>2012</td>\n",
       "      <td>London</td>\n",
       "      <td>Wrestling</td>\n",
       "      <td>Wrestling Freestyle</td>\n",
       "      <td>LORINCZ, Tamas</td>\n",
       "      <td>HUN</td>\n",
       "      <td>Men</td>\n",
       "      <td>Wg 66 KG</td>\n",
       "      <td>Silver</td>\n",
       "    </tr>\n",
       "    <tr>\n",
       "      <th>31156</th>\n",
       "      <td>2012</td>\n",
       "      <td>London</td>\n",
       "      <td>Wrestling</td>\n",
       "      <td>Wrestling Freestyle</td>\n",
       "      <td>GUENOT, Steeve</td>\n",
       "      <td>FRA</td>\n",
       "      <td>Men</td>\n",
       "      <td>Wg 66 KG</td>\n",
       "      <td>Bronze</td>\n",
       "    </tr>\n",
       "    <tr>\n",
       "      <th>31157</th>\n",
       "      <td>2012</td>\n",
       "      <td>London</td>\n",
       "      <td>Wrestling</td>\n",
       "      <td>Wrestling Freestyle</td>\n",
       "      <td>TSKHADAIA, Manuchar</td>\n",
       "      <td>GEO</td>\n",
       "      <td>Men</td>\n",
       "      <td>Wg 66 KG</td>\n",
       "      <td>Bronze</td>\n",
       "    </tr>\n",
       "    <tr>\n",
       "      <th>31158</th>\n",
       "      <td>2012</td>\n",
       "      <td>London</td>\n",
       "      <td>Wrestling</td>\n",
       "      <td>Wrestling Freestyle</td>\n",
       "      <td>VLASOV, Roman</td>\n",
       "      <td>RUS</td>\n",
       "      <td>Men</td>\n",
       "      <td>Wg 74 KG</td>\n",
       "      <td>Gold</td>\n",
       "    </tr>\n",
       "    <tr>\n",
       "      <th>31159</th>\n",
       "      <td>2012</td>\n",
       "      <td>London</td>\n",
       "      <td>Wrestling</td>\n",
       "      <td>Wrestling Freestyle</td>\n",
       "      <td>JULFALAKYAN, Arsen</td>\n",
       "      <td>ARM</td>\n",
       "      <td>Men</td>\n",
       "      <td>Wg 74 KG</td>\n",
       "      <td>Silver</td>\n",
       "    </tr>\n",
       "    <tr>\n",
       "      <th>31160</th>\n",
       "      <td>2012</td>\n",
       "      <td>London</td>\n",
       "      <td>Wrestling</td>\n",
       "      <td>Wrestling Freestyle</td>\n",
       "      <td>AHMADOV, Emin</td>\n",
       "      <td>AZE</td>\n",
       "      <td>Men</td>\n",
       "      <td>Wg 74 KG</td>\n",
       "      <td>Bronze</td>\n",
       "    </tr>\n",
       "    <tr>\n",
       "      <th>31161</th>\n",
       "      <td>2012</td>\n",
       "      <td>London</td>\n",
       "      <td>Wrestling</td>\n",
       "      <td>Wrestling Freestyle</td>\n",
       "      <td>KAZAKEVIC, Aleksandr</td>\n",
       "      <td>LTU</td>\n",
       "      <td>Men</td>\n",
       "      <td>Wg 74 KG</td>\n",
       "      <td>Bronze</td>\n",
       "    </tr>\n",
       "    <tr>\n",
       "      <th>31162</th>\n",
       "      <td>2012</td>\n",
       "      <td>London</td>\n",
       "      <td>Wrestling</td>\n",
       "      <td>Wrestling Freestyle</td>\n",
       "      <td>KHUGAEV, Alan</td>\n",
       "      <td>RUS</td>\n",
       "      <td>Men</td>\n",
       "      <td>Wg 84 KG</td>\n",
       "      <td>Gold</td>\n",
       "    </tr>\n",
       "    <tr>\n",
       "      <th>31163</th>\n",
       "      <td>2012</td>\n",
       "      <td>London</td>\n",
       "      <td>Wrestling</td>\n",
       "      <td>Wrestling Freestyle</td>\n",
       "      <td>EBRAHIM, Karam Mohamed Gaber</td>\n",
       "      <td>EGY</td>\n",
       "      <td>Men</td>\n",
       "      <td>Wg 84 KG</td>\n",
       "      <td>Silver</td>\n",
       "    </tr>\n",
       "    <tr>\n",
       "      <th>31164</th>\n",
       "      <td>2012</td>\n",
       "      <td>London</td>\n",
       "      <td>Wrestling</td>\n",
       "      <td>Wrestling Freestyle</td>\n",
       "      <td>GAJIYEV, Danyal</td>\n",
       "      <td>KAZ</td>\n",
       "      <td>Men</td>\n",
       "      <td>Wg 84 KG</td>\n",
       "      <td>Bronze</td>\n",
       "    </tr>\n",
       "    <tr>\n",
       "      <th>31165</th>\n",
       "      <td>2012</td>\n",
       "      <td>London</td>\n",
       "      <td>Wrestling</td>\n",
       "      <td>Wrestling Freestyle</td>\n",
       "      <td>JANIKOWSKI, Damian</td>\n",
       "      <td>POL</td>\n",
       "      <td>Men</td>\n",
       "      <td>Wg 84 KG</td>\n",
       "      <td>Bronze</td>\n",
       "    </tr>\n",
       "    <tr>\n",
       "      <th>31166</th>\n",
       "      <td>2012</td>\n",
       "      <td>London</td>\n",
       "      <td>Wrestling</td>\n",
       "      <td>Wrestling Freestyle</td>\n",
       "      <td>REZAEI, Ghasem Gholamreza</td>\n",
       "      <td>IRI</td>\n",
       "      <td>Men</td>\n",
       "      <td>Wg 96 KG</td>\n",
       "      <td>Gold</td>\n",
       "    </tr>\n",
       "    <tr>\n",
       "      <th>31167</th>\n",
       "      <td>2012</td>\n",
       "      <td>London</td>\n",
       "      <td>Wrestling</td>\n",
       "      <td>Wrestling Freestyle</td>\n",
       "      <td>TOTROV, Rustam</td>\n",
       "      <td>RUS</td>\n",
       "      <td>Men</td>\n",
       "      <td>Wg 96 KG</td>\n",
       "      <td>Silver</td>\n",
       "    </tr>\n",
       "    <tr>\n",
       "      <th>31168</th>\n",
       "      <td>2012</td>\n",
       "      <td>London</td>\n",
       "      <td>Wrestling</td>\n",
       "      <td>Wrestling Freestyle</td>\n",
       "      <td>ALEKSANYAN, Artur</td>\n",
       "      <td>ARM</td>\n",
       "      <td>Men</td>\n",
       "      <td>Wg 96 KG</td>\n",
       "      <td>Bronze</td>\n",
       "    </tr>\n",
       "    <tr>\n",
       "      <th>31169</th>\n",
       "      <td>2012</td>\n",
       "      <td>London</td>\n",
       "      <td>Wrestling</td>\n",
       "      <td>Wrestling Freestyle</td>\n",
       "      <td>LIDBERG, Jimmy</td>\n",
       "      <td>SWE</td>\n",
       "      <td>Men</td>\n",
       "      <td>Wg 96 KG</td>\n",
       "      <td>Bronze</td>\n",
       "    </tr>\n",
       "  </tbody>\n",
       "</table>\n",
       "<p>31163 rows × 9 columns</p>\n",
       "</div>"
      ],
      "text/plain": [
       "       Year    City      Sport           Discipline  \\\n",
       "0      1896  Athens   Aquatics             Swimming   \n",
       "1      1896  Athens   Aquatics             Swimming   \n",
       "2      1896  Athens   Aquatics             Swimming   \n",
       "3      1896  Athens   Aquatics             Swimming   \n",
       "4      1896  Athens   Aquatics             Swimming   \n",
       "5      1896  Athens   Aquatics             Swimming   \n",
       "6      1896  Athens   Aquatics             Swimming   \n",
       "7      1896  Athens   Aquatics             Swimming   \n",
       "8      1896  Athens   Aquatics             Swimming   \n",
       "9      1896  Athens   Aquatics             Swimming   \n",
       "10     1896  Athens   Aquatics             Swimming   \n",
       "11     1896  Athens  Athletics            Athletics   \n",
       "12     1896  Athens  Athletics            Athletics   \n",
       "13     1896  Athens  Athletics            Athletics   \n",
       "14     1896  Athens  Athletics            Athletics   \n",
       "15     1896  Athens  Athletics            Athletics   \n",
       "16     1896  Athens  Athletics            Athletics   \n",
       "17     1896  Athens  Athletics            Athletics   \n",
       "18     1896  Athens  Athletics            Athletics   \n",
       "19     1896  Athens  Athletics            Athletics   \n",
       "20     1896  Athens  Athletics            Athletics   \n",
       "21     1896  Athens  Athletics            Athletics   \n",
       "22     1896  Athens  Athletics            Athletics   \n",
       "23     1896  Athens  Athletics            Athletics   \n",
       "24     1896  Athens  Athletics            Athletics   \n",
       "25     1896  Athens  Athletics            Athletics   \n",
       "26     1896  Athens  Athletics            Athletics   \n",
       "27     1896  Athens  Athletics            Athletics   \n",
       "28     1896  Athens  Athletics            Athletics   \n",
       "29     1896  Athens  Athletics            Athletics   \n",
       "...     ...     ...        ...                  ...   \n",
       "31140  2012  London  Wrestling  Wrestling Freestyle   \n",
       "31141  2012  London  Wrestling  Wrestling Freestyle   \n",
       "31142  2012  London  Wrestling  Wrestling Freestyle   \n",
       "31143  2012  London  Wrestling  Wrestling Freestyle   \n",
       "31144  2012  London  Wrestling  Wrestling Freestyle   \n",
       "31145  2012  London  Wrestling  Wrestling Freestyle   \n",
       "31146  2012  London  Wrestling  Wrestling Freestyle   \n",
       "31147  2012  London  Wrestling  Wrestling Freestyle   \n",
       "31148  2012  London  Wrestling  Wrestling Freestyle   \n",
       "31149  2012  London  Wrestling  Wrestling Freestyle   \n",
       "31150  2012  London  Wrestling  Wrestling Freestyle   \n",
       "31151  2012  London  Wrestling  Wrestling Freestyle   \n",
       "31152  2012  London  Wrestling  Wrestling Freestyle   \n",
       "31153  2012  London  Wrestling  Wrestling Freestyle   \n",
       "31154  2012  London  Wrestling  Wrestling Freestyle   \n",
       "31155  2012  London  Wrestling  Wrestling Freestyle   \n",
       "31156  2012  London  Wrestling  Wrestling Freestyle   \n",
       "31157  2012  London  Wrestling  Wrestling Freestyle   \n",
       "31158  2012  London  Wrestling  Wrestling Freestyle   \n",
       "31159  2012  London  Wrestling  Wrestling Freestyle   \n",
       "31160  2012  London  Wrestling  Wrestling Freestyle   \n",
       "31161  2012  London  Wrestling  Wrestling Freestyle   \n",
       "31162  2012  London  Wrestling  Wrestling Freestyle   \n",
       "31163  2012  London  Wrestling  Wrestling Freestyle   \n",
       "31164  2012  London  Wrestling  Wrestling Freestyle   \n",
       "31165  2012  London  Wrestling  Wrestling Freestyle   \n",
       "31166  2012  London  Wrestling  Wrestling Freestyle   \n",
       "31167  2012  London  Wrestling  Wrestling Freestyle   \n",
       "31168  2012  London  Wrestling  Wrestling Freestyle   \n",
       "31169  2012  London  Wrestling  Wrestling Freestyle   \n",
       "\n",
       "                              Athlete Name Country Gender  \\\n",
       "0                           HAJOS, Alfred      HUN    Men   \n",
       "1                        HERSCHMANN, Otto      AUT    Men   \n",
       "2                       DRIVAS, Dimitrios      GRE    Men   \n",
       "3                      Malokinis, Ioannis      GRE    Men   \n",
       "4                      Chasapis, Spiridon      GRE    Men   \n",
       "5                   Chorophas, Efstathios      GRE    Men   \n",
       "6                           Hajos, Alfred      HUN    Men   \n",
       "7                        Andreou, Joannis      GRE    Men   \n",
       "8                   Chorophas, Efstathios      GRE    Men   \n",
       "9                           Neumann, Paul      AUT    Men   \n",
       "10                      Pepanos, Antonios      GRE    Men   \n",
       "11                          Lane, Francis      USA    Men   \n",
       "12                       Szokolyi, Alajos      HUN    Men   \n",
       "13                          BURKE, Thomas      USA    Men   \n",
       "14                         HOFMANN, Fritz      GER    Men   \n",
       "15                         CURTIS, Thomas      USA    Men   \n",
       "16                     GOULDING, Grantley      GBR    Men   \n",
       "17                      LERMUSIAUX, Albin      FRA    Men   \n",
       "18                           FLACK, Edwin      AUS    Men   \n",
       "19                          BLAKE, Arthur      USA    Men   \n",
       "20                        GMELIN, Charles      GBR    Men   \n",
       "21                          BURKE, Thomas      USA    Men   \n",
       "22                       JAMISON, Herbert      USA    Men   \n",
       "23                     GOLEMIS, Dimitrios      GRE    Men   \n",
       "24                           FLACK, Edwin      AUS    Men   \n",
       "25                           DANI, Nandor      HUN    Men   \n",
       "26                       VERSIS, Sotirios      GRE    Men   \n",
       "27                        GARRETT, Robert      USA    Men   \n",
       "28            PARASKEVOPOULOS, Panagiotis      GRE    Men   \n",
       "29                          CLARK, Ellery      USA    Men   \n",
       "...                                    ...     ...    ...   \n",
       "31140                    GAZYUMOV, Khetag      AZE    Men   \n",
       "31141                 GOGSHELIDZE, George      GEO    Men   \n",
       "31142                 LOPEZ NUNEZ, Mijain      CUB    Men   \n",
       "31143                         NABI, Heiki      EST    Men   \n",
       "31144                        EUREN, Johan      SWE    Men   \n",
       "31145                       KAYAALP, Riza      TUR    Men   \n",
       "31146   SORYAN REIHANPOUR, Hamid Mohammad      IRI    Men   \n",
       "31147                   BAYRAMOV, Rovshan      AZE    Men   \n",
       "31148                        MODOS, Peter      HUN    Men   \n",
       "31149                   SEMENOV, Mingiyan      RUS    Men   \n",
       "31150                  NOROOZI, Omid Haji      IRI    Men   \n",
       "31151                      LASHKHI, Revaz      GEO    Men   \n",
       "31152                 KURAMAGOMEDOV, Zaur      RUS    Men   \n",
       "31153                  MATSUMOTO, Ryutaro      JPN    Men   \n",
       "31154                       KIM, Hyeonwoo      KOR    Men   \n",
       "31155                      LORINCZ, Tamas      HUN    Men   \n",
       "31156                      GUENOT, Steeve      FRA    Men   \n",
       "31157                 TSKHADAIA, Manuchar      GEO    Men   \n",
       "31158                       VLASOV, Roman      RUS    Men   \n",
       "31159                  JULFALAKYAN, Arsen      ARM    Men   \n",
       "31160                       AHMADOV, Emin      AZE    Men   \n",
       "31161                KAZAKEVIC, Aleksandr      LTU    Men   \n",
       "31162                       KHUGAEV, Alan      RUS    Men   \n",
       "31163        EBRAHIM, Karam Mohamed Gaber      EGY    Men   \n",
       "31164                     GAJIYEV, Danyal      KAZ    Men   \n",
       "31165                  JANIKOWSKI, Damian      POL    Men   \n",
       "31166           REZAEI, Ghasem Gholamreza      IRI    Men   \n",
       "31167                      TOTROV, Rustam      RUS    Men   \n",
       "31168                   ALEKSANYAN, Artur      ARM    Men   \n",
       "31169                      LIDBERG, Jimmy      SWE    Men   \n",
       "\n",
       "                            Event       Medal  \n",
       "0                  100M Freestyle  Gold Medal  \n",
       "1                  100M Freestyle      Silver  \n",
       "2      100M Freestyle For Sailors      Bronze  \n",
       "3      100M Freestyle For Sailors  Gold Medal  \n",
       "4      100M Freestyle For Sailors      Silver  \n",
       "5                 1200M Freestyle      Bronze  \n",
       "6                 1200M Freestyle  Gold Medal  \n",
       "7                 1200M Freestyle      Silver  \n",
       "8                  400M Freestyle      Bronze  \n",
       "9                  400M Freestyle  Gold Medal  \n",
       "10                 400M Freestyle      Silver  \n",
       "11                           100M      Bronze  \n",
       "12                           100M      Bronze  \n",
       "13                           100M        Gold  \n",
       "14                           100M      Silver  \n",
       "15                   110M Hurdles        Gold  \n",
       "16                   110M Hurdles      Silver  \n",
       "17                          1500M      Bronze  \n",
       "18                          1500M        Gold  \n",
       "19                          1500M      Silver  \n",
       "20                           400M      Bronze  \n",
       "21                           400M        Gold  \n",
       "22                           400M      Silver  \n",
       "23                           800M      Bronze  \n",
       "24                           800M        Gold  \n",
       "25                           800M      Silver  \n",
       "26                   Discus Throw      Bronze  \n",
       "27                   Discus Throw        Gold  \n",
       "28                   Discus Throw      Silver  \n",
       "29                      High Jump        Gold  \n",
       "...                           ...         ...  \n",
       "31140                    Wf 96 KG      Bronze  \n",
       "31141                    Wf 96 KG      Bronze  \n",
       "31142                   Wg 120 KG        Gold  \n",
       "31143                   Wg 120 KG      Silver  \n",
       "31144                   Wg 120 KG      Bronze  \n",
       "31145                   Wg 120 KG      Bronze  \n",
       "31146                    Wg 55 KG        Gold  \n",
       "31147                    Wg 55 KG      Silver  \n",
       "31148                    Wg 55 KG      Bronze  \n",
       "31149                    Wg 55 KG      Bronze  \n",
       "31150                    Wg 60 KG        Gold  \n",
       "31151                    Wg 60 KG      Silver  \n",
       "31152                    Wg 60 KG      Bronze  \n",
       "31153                    Wg 60 KG      Bronze  \n",
       "31154                    Wg 66 KG        Gold  \n",
       "31155                    Wg 66 KG      Silver  \n",
       "31156                    Wg 66 KG      Bronze  \n",
       "31157                    Wg 66 KG      Bronze  \n",
       "31158                    Wg 74 KG        Gold  \n",
       "31159                    Wg 74 KG      Silver  \n",
       "31160                    Wg 74 KG      Bronze  \n",
       "31161                    Wg 74 KG      Bronze  \n",
       "31162                    Wg 84 KG        Gold  \n",
       "31163                    Wg 84 KG      Silver  \n",
       "31164                    Wg 84 KG      Bronze  \n",
       "31165                    Wg 84 KG      Bronze  \n",
       "31166                    Wg 96 KG        Gold  \n",
       "31167                    Wg 96 KG      Silver  \n",
       "31168                    Wg 96 KG      Bronze  \n",
       "31169                    Wg 96 KG      Bronze  \n",
       "\n",
       "[31163 rows x 9 columns]"
      ]
     },
     "execution_count": 96,
     "metadata": {},
     "output_type": "execute_result"
    }
   ],
   "source": []
  },
  {
   "cell_type": "code",
   "execution_count": 97,
   "metadata": {
    "collapsed": false
   },
   "outputs": [
    {
     "data": {
      "text/plain": [
       "(31168, 9)"
      ]
     },
     "execution_count": 97,
     "metadata": {},
     "output_type": "execute_result"
    }
   ],
   "source": []
  },
  {
   "cell_type": "code",
   "execution_count": 98,
   "metadata": {
    "collapsed": false
   },
   "outputs": [
    {
     "data": {
      "text/html": [
       "<div>\n",
       "<style scoped>\n",
       "    .dataframe tbody tr th:only-of-type {\n",
       "        vertical-align: middle;\n",
       "    }\n",
       "\n",
       "    .dataframe tbody tr th {\n",
       "        vertical-align: top;\n",
       "    }\n",
       "\n",
       "    .dataframe thead th {\n",
       "        text-align: right;\n",
       "    }\n",
       "</style>\n",
       "<table border=\"1\" class=\"dataframe\">\n",
       "  <thead>\n",
       "    <tr style=\"text-align: right;\">\n",
       "      <th></th>\n",
       "      <th>Class</th>\n",
       "      <th>Age</th>\n",
       "      <th>Siblings</th>\n",
       "      <th>Parch</th>\n",
       "      <th>Price</th>\n",
       "    </tr>\n",
       "  </thead>\n",
       "  <tbody>\n",
       "    <tr>\n",
       "      <th>count</th>\n",
       "      <td>890.000000</td>\n",
       "      <td>890.000000</td>\n",
       "      <td>890.000000</td>\n",
       "      <td>890.000000</td>\n",
       "      <td>890.000000</td>\n",
       "    </tr>\n",
       "    <tr>\n",
       "      <th>mean</th>\n",
       "      <td>2.308989</td>\n",
       "      <td>30.766483</td>\n",
       "      <td>0.521348</td>\n",
       "      <td>0.382022</td>\n",
       "      <td>32.163951</td>\n",
       "    </tr>\n",
       "    <tr>\n",
       "      <th>std</th>\n",
       "      <td>0.835131</td>\n",
       "      <td>21.599103</td>\n",
       "      <td>1.103270</td>\n",
       "      <td>0.806409</td>\n",
       "      <td>49.702360</td>\n",
       "    </tr>\n",
       "    <tr>\n",
       "      <th>min</th>\n",
       "      <td>1.000000</td>\n",
       "      <td>0.420000</td>\n",
       "      <td>0.000000</td>\n",
       "      <td>0.000000</td>\n",
       "      <td>0.000000</td>\n",
       "    </tr>\n",
       "    <tr>\n",
       "      <th>25%</th>\n",
       "      <td>2.000000</td>\n",
       "      <td>22.000000</td>\n",
       "      <td>0.000000</td>\n",
       "      <td>0.000000</td>\n",
       "      <td>7.925000</td>\n",
       "    </tr>\n",
       "    <tr>\n",
       "      <th>50%</th>\n",
       "      <td>3.000000</td>\n",
       "      <td>31.000000</td>\n",
       "      <td>0.000000</td>\n",
       "      <td>0.000000</td>\n",
       "      <td>14.454200</td>\n",
       "    </tr>\n",
       "    <tr>\n",
       "      <th>75%</th>\n",
       "      <td>3.000000</td>\n",
       "      <td>35.000000</td>\n",
       "      <td>1.000000</td>\n",
       "      <td>0.000000</td>\n",
       "      <td>31.000000</td>\n",
       "    </tr>\n",
       "    <tr>\n",
       "      <th>max</th>\n",
       "      <td>3.000000</td>\n",
       "      <td>490.000000</td>\n",
       "      <td>8.000000</td>\n",
       "      <td>6.000000</td>\n",
       "      <td>512.329200</td>\n",
       "    </tr>\n",
       "  </tbody>\n",
       "</table>\n",
       "</div>"
      ],
      "text/plain": [
       "            Class         Age    Siblings       Parch       Price\n",
       "count  890.000000  890.000000  890.000000  890.000000  890.000000\n",
       "mean     2.308989   30.766483    0.521348    0.382022   32.163951\n",
       "std      0.835131   21.599103    1.103270    0.806409   49.702360\n",
       "min      1.000000    0.420000    0.000000    0.000000    0.000000\n",
       "25%      2.000000   22.000000    0.000000    0.000000    7.925000\n",
       "50%      3.000000   31.000000    0.000000    0.000000   14.454200\n",
       "75%      3.000000   35.000000    1.000000    0.000000   31.000000\n",
       "max      3.000000  490.000000    8.000000    6.000000  512.329200"
      ]
     },
     "execution_count": 98,
     "metadata": {},
     "output_type": "execute_result"
    }
   ],
   "source": [
    "#Detecting incorrect outliers\n",
    "t.describe()# Age and Fare column seem unreasonable\n"
   ]
  },
  {
   "cell_type": "code",
   "execution_count": 99,
   "metadata": {
    "collapsed": false
   },
   "outputs": [
    {
     "data": {
      "text/plain": [
       "451    490.0\n",
       "783    250.0\n",
       "215    102.0\n",
       "628     80.0\n",
       "Name: Age, dtype: float64"
      ]
     },
     "execution_count": 99,
     "metadata": {},
     "output_type": "execute_result"
    }
   ],
   "source": [
    "t.Age.sort_values(ascending=False).head(4)"
   ]
  },
  {
   "cell_type": "code",
   "execution_count": 100,
   "metadata": {
    "collapsed": false
   },
   "outputs": [
    {
     "data": {
      "text/html": [
       "<div>\n",
       "<style scoped>\n",
       "    .dataframe tbody tr th:only-of-type {\n",
       "        vertical-align: middle;\n",
       "    }\n",
       "\n",
       "    .dataframe tbody tr th {\n",
       "        vertical-align: top;\n",
       "    }\n",
       "\n",
       "    .dataframe thead th {\n",
       "        text-align: right;\n",
       "    }\n",
       "</style>\n",
       "<table border=\"1\" class=\"dataframe\">\n",
       "  <thead>\n",
       "    <tr style=\"text-align: right;\">\n",
       "      <th></th>\n",
       "      <th>Alive</th>\n",
       "      <th>Class</th>\n",
       "      <th>Gender</th>\n",
       "      <th>Age</th>\n",
       "      <th>Siblings</th>\n",
       "      <th>Parch</th>\n",
       "      <th>Price</th>\n",
       "      <th>Emb</th>\n",
       "      <th>Deck</th>\n",
       "    </tr>\n",
       "  </thead>\n",
       "  <tbody>\n",
       "    <tr>\n",
       "      <th>215</th>\n",
       "      <td>0</td>\n",
       "      <td>2</td>\n",
       "      <td>male</td>\n",
       "      <td>102.0</td>\n",
       "      <td>1</td>\n",
       "      <td>0</td>\n",
       "      <td>27.0000</td>\n",
       "      <td>S</td>\n",
       "      <td>NaN</td>\n",
       "    </tr>\n",
       "    <tr>\n",
       "      <th>451</th>\n",
       "      <td>1</td>\n",
       "      <td>1</td>\n",
       "      <td>male</td>\n",
       "      <td>490.0</td>\n",
       "      <td>1</td>\n",
       "      <td>0</td>\n",
       "      <td>89.1042</td>\n",
       "      <td>C</td>\n",
       "      <td>C</td>\n",
       "    </tr>\n",
       "    <tr>\n",
       "      <th>783</th>\n",
       "      <td>0</td>\n",
       "      <td>3</td>\n",
       "      <td>male</td>\n",
       "      <td>250.0</td>\n",
       "      <td>0</td>\n",
       "      <td>0</td>\n",
       "      <td>7.2500</td>\n",
       "      <td>S</td>\n",
       "      <td>NaN</td>\n",
       "    </tr>\n",
       "  </tbody>\n",
       "</table>\n",
       "</div>"
      ],
      "text/plain": [
       "    Alive  Class Gender    Age  Siblings  Parch    Price Emb Deck\n",
       "215     0      2   male  102.0         1      0  27.0000   S  NaN\n",
       "451     1      1   male  490.0         1      0  89.1042   C    C\n",
       "783     0      3   male  250.0         0      0   7.2500   S  NaN"
      ]
     },
     "execution_count": 100,
     "metadata": {},
     "output_type": "execute_result"
    }
   ],
   "source": [
    "t[t.Age>90]"
   ]
  },
  {
   "cell_type": "code",
   "execution_count": 102,
   "metadata": {
    "collapsed": false
   },
   "outputs": [
    {
     "data": {
      "text/plain": [
       "677    512.3292\n",
       "735    512.3292\n",
       "256    512.3292\n",
       "25     263.0000\n",
       "436    263.0000\n",
       "Name: Price, dtype: float64"
      ]
     },
     "execution_count": 102,
     "metadata": {},
     "output_type": "execute_result"
    }
   ],
   "source": [
    "t.Price.sort_values(ascending=False).head()# hence is maybe correct and justified"
   ]
  },
  {
   "cell_type": "code",
   "execution_count": 103,
   "metadata": {
    "collapsed": true
   },
   "outputs": [],
   "source": [
    "import matplotlib as plt"
   ]
  },
  {
   "cell_type": "code",
   "execution_count": 104,
   "metadata": {
    "collapsed": false
   },
   "outputs": [
    {
     "ename": "AttributeError",
     "evalue": "module 'matplotlib' has no attribute 'show'",
     "output_type": "error",
     "traceback": [
      "\u001b[0;31m---------------------------------------------------------------------------\u001b[0m",
      "\u001b[0;31mAttributeError\u001b[0m                            Traceback (most recent call last)",
      "\u001b[0;32m<ipython-input-104-60a2dc2a3963>\u001b[0m in \u001b[0;36m<module>\u001b[0;34m()\u001b[0m\n\u001b[1;32m      1\u001b[0m \u001b[0mt\u001b[0m\u001b[1;33m.\u001b[0m\u001b[0mplot\u001b[0m\u001b[1;33m(\u001b[0m\u001b[0mkind\u001b[0m\u001b[1;33m=\u001b[0m\u001b[1;34m'line'\u001b[0m\u001b[1;33m,\u001b[0m\u001b[0mfigsize\u001b[0m\u001b[1;33m=\u001b[0m\u001b[1;33m(\u001b[0m\u001b[1;36m12\u001b[0m\u001b[1;33m,\u001b[0m\u001b[1;36m12\u001b[0m\u001b[1;33m)\u001b[0m\u001b[1;33m)\u001b[0m\u001b[1;33m\u001b[0m\u001b[0m\n\u001b[0;32m----> 2\u001b[0;31m \u001b[0mplt\u001b[0m\u001b[1;33m.\u001b[0m\u001b[0mshow\u001b[0m\u001b[1;33m\u001b[0m\u001b[0m\n\u001b[0m",
      "\u001b[0;31mAttributeError\u001b[0m: module 'matplotlib' has no attribute 'show'"
     ]
    }
   ],
   "source": [
    "t.plot(kind='line',figsize=(12,12))\n",
    "plt.show"
   ]
  },
  {
   "cell_type": "raw",
   "metadata": {},
   "source": [
    "possible outcomes to replace or outliers"
   ]
  },
  {
   "cell_type": "code",
   "execution_count": 105,
   "metadata": {
    "collapsed": false
   },
   "outputs": [],
   "source": [
    "t.loc[[451,783,215],'Age']=t.Age.sort_values(ascending=False).head(3)/10"
   ]
  },
  {
   "cell_type": "code",
   "execution_count": 151,
   "metadata": {
    "collapsed": false
   },
   "outputs": [
    {
     "data": {
      "text/plain": [
       "628    80.0\n",
       "849    74.0\n",
       "94     71.0\n",
       "Name: Age, dtype: float64"
      ]
     },
     "execution_count": 151,
     "metadata": {},
     "output_type": "execute_result"
    }
   ],
   "source": [
    "t.Age.sort_values(ascending=False).head(3)# hence we shifted decimal point\n",
    "#Or we can also replace it with mean,median or further research"
   ]
  },
  {
   "cell_type": "code",
   "execution_count": 106,
   "metadata": {
    "collapsed": false
   },
   "outputs": [
    {
     "data": {
      "text/plain": [
       "Alive         4\n",
       "Class         3\n",
       "Gender        2\n",
       "Age          89\n",
       "Siblings      7\n",
       "Parch         7\n",
       "Price       247\n",
       "Emb           3\n",
       "Deck          7\n",
       "dtype: int64"
      ]
     },
     "execution_count": 106,
     "metadata": {},
     "output_type": "execute_result"
    }
   ],
   "source": [
    "t.nunique()"
   ]
  },
  {
   "cell_type": "code",
   "execution_count": 107,
   "metadata": {
    "collapsed": false
   },
   "outputs": [
    {
     "data": {
      "text/html": [
       "<div>\n",
       "<style scoped>\n",
       "    .dataframe tbody tr th:only-of-type {\n",
       "        vertical-align: middle;\n",
       "    }\n",
       "\n",
       "    .dataframe tbody tr th {\n",
       "        vertical-align: top;\n",
       "    }\n",
       "\n",
       "    .dataframe thead th {\n",
       "        text-align: right;\n",
       "    }\n",
       "</style>\n",
       "<table border=\"1\" class=\"dataframe\">\n",
       "  <thead>\n",
       "    <tr style=\"text-align: right;\">\n",
       "      <th></th>\n",
       "      <th>Alive</th>\n",
       "      <th>Gender</th>\n",
       "      <th>Emb</th>\n",
       "      <th>Deck</th>\n",
       "    </tr>\n",
       "  </thead>\n",
       "  <tbody>\n",
       "    <tr>\n",
       "      <th>count</th>\n",
       "      <td>890</td>\n",
       "      <td>890</td>\n",
       "      <td>888</td>\n",
       "      <td>202</td>\n",
       "    </tr>\n",
       "    <tr>\n",
       "      <th>unique</th>\n",
       "      <td>4</td>\n",
       "      <td>2</td>\n",
       "      <td>3</td>\n",
       "      <td>7</td>\n",
       "    </tr>\n",
       "    <tr>\n",
       "      <th>top</th>\n",
       "      <td>0</td>\n",
       "      <td>male</td>\n",
       "      <td>S</td>\n",
       "      <td>C</td>\n",
       "    </tr>\n",
       "    <tr>\n",
       "      <th>freq</th>\n",
       "      <td>548</td>\n",
       "      <td>577</td>\n",
       "      <td>644</td>\n",
       "      <td>58</td>\n",
       "    </tr>\n",
       "  </tbody>\n",
       "</table>\n",
       "</div>"
      ],
      "text/plain": [
       "       Alive Gender  Emb Deck\n",
       "count    890    890  888  202\n",
       "unique     4      2    3    7\n",
       "top        0   male    S    C\n",
       "freq     548    577  644   58"
      ]
     },
     "execution_count": 107,
     "metadata": {},
     "output_type": "execute_result"
    }
   ],
   "source": [
    "t.describe(include=['O'])"
   ]
  },
  {
   "cell_type": "code",
   "execution_count": 108,
   "metadata": {
    "collapsed": false
   },
   "outputs": [],
   "source": [
    "#converting to Category, lesser and repitive values exist saves memory"
   ]
  },
  {
   "cell_type": "code",
   "execution_count": 166,
   "metadata": {
    "collapsed": true
   },
   "outputs": [],
   "source": [
    "t.Gender=t.Gender.astype('category')"
   ]
  },
  {
   "cell_type": "code",
   "execution_count": 111,
   "metadata": {
    "collapsed": false
   },
   "outputs": [
    {
     "name": "stdout",
     "output_type": "stream",
     "text": [
      "<class 'pandas.core.frame.DataFrame'>\n",
      "RangeIndex: 890 entries, 0 to 889\n",
      "Data columns (total 9 columns):\n",
      "Alive       890 non-null object\n",
      "Class       890 non-null int64\n",
      "Gender      890 non-null object\n",
      "Age         890 non-null float64\n",
      "Siblings    890 non-null int64\n",
      "Parch       890 non-null int64\n",
      "Price       890 non-null float64\n",
      "Emb         888 non-null object\n",
      "Deck        202 non-null object\n",
      "dtypes: float64(2), int64(3), object(4)\n",
      "memory usage: 48.7+ KB\n"
     ]
    }
   ],
   "source": [
    "t.info()"
   ]
  },
  {
   "cell_type": "code",
   "execution_count": null,
   "metadata": {
    "collapsed": true
   },
   "outputs": [],
   "source": []
  }
 ],
 "metadata": {
  "anaconda-cloud": {},
  "kernelspec": {
   "display_name": "Python [conda root]",
   "language": "python",
   "name": "conda-root-py"
  },
  "language_info": {
   "codemirror_mode": {
    "name": "ipython",
    "version": 3
   },
   "file_extension": ".py",
   "mimetype": "text/x-python",
   "name": "python",
   "nbconvert_exporter": "python",
   "pygments_lexer": "ipython3",
   "version": "3.5.2"
  }
 },
 "nbformat": 4,
 "nbformat_minor": 1
}
